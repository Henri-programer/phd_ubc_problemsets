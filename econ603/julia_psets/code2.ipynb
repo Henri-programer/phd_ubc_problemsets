{
 "cells": [
  {
   "cell_type": "markdown",
   "id": "52fca4ab",
   "metadata": {},
   "source": [
    "Fernando Boffi - PSet 1 - Macroeconomics"
   ]
  },
  {
   "cell_type": "code",
   "execution_count": null,
   "id": "45c49080",
   "metadata": {},
   "outputs": [],
   "source": [
    "using Pkg"
   ]
  },
  {
   "cell_type": "code",
   "execution_count": 273,
   "id": "d5d8161a",
   "metadata": {},
   "outputs": [
    {
     "name": "stderr",
     "output_type": "stream",
     "text": [
      "\u001b[32m\u001b[1m   Resolving\u001b[22m\u001b[39m package versions...\n",
      "\u001b[32m\u001b[1m    Updating\u001b[22m\u001b[39m `C:\\Users\\joseb\\.julia\\environments\\v1.7\\Project.toml`\n",
      " \u001b[90m [2913bbd2] \u001b[39m\u001b[92m+ StatsBase v0.33.21\u001b[39m\n",
      "\u001b[32m\u001b[1m  No Changes\u001b[22m\u001b[39m to `C:\\Users\\joseb\\.julia\\environments\\v1.7\\Manifest.toml`\n"
     ]
    }
   ],
   "source": [
    "Pkg.add(\"StatsBase\")"
   ]
  },
  {
   "cell_type": "code",
   "execution_count": 251,
   "id": "0f7f585e",
   "metadata": {},
   "outputs": [
    {
     "name": "stderr",
     "output_type": "stream",
     "text": [
      "\u001b[32m\u001b[1m   Resolving\u001b[22m\u001b[39m package versions...\n",
      "\u001b[32m\u001b[1m  No Changes\u001b[22m\u001b[39m to `C:\\Users\\joseb\\.julia\\environments\\v1.7\\Project.toml`\n",
      "\u001b[32m\u001b[1m  No Changes\u001b[22m\u001b[39m to `C:\\Users\\joseb\\.julia\\environments\\v1.7\\Manifest.toml`\n"
     ]
    }
   ],
   "source": [
    "Pkg.add(\"SpecialFunctions\")"
   ]
  },
  {
   "cell_type": "code",
   "execution_count": 274,
   "id": "e385fcb2",
   "metadata": {},
   "outputs": [],
   "source": [
    "using Distributions, Parameters, PrettyTables, Statistics, StatsBase"
   ]
  },
  {
   "cell_type": "markdown",
   "id": "5fe5ae98",
   "metadata": {},
   "source": [
    "#### Question 1"
   ]
  },
  {
   "cell_type": "code",
   "execution_count": 252,
   "id": "be1bf7a4",
   "metadata": {},
   "outputs": [],
   "source": [
    "using SpecialFunctions"
   ]
  },
  {
   "cell_type": "code",
   "execution_count": 253,
   "id": "f48993a8",
   "metadata": {},
   "outputs": [
    {
     "data": {
      "text/plain": [
       "std_norm_cdf (generic function with 2 methods)"
      ]
     },
     "execution_count": 253,
     "metadata": {},
     "output_type": "execute_result"
    }
   ],
   "source": [
    "std_norm_cdf(x::T) where {T <: Real} = 0.5 * erfc(-x/sqrt(2))\n",
    "std_norm_cdf(x::Array{T}) where {T <: Real} = 0.5 .* erfc(-x./sqrt(2))"
   ]
  },
  {
   "cell_type": "code",
   "execution_count": 408,
   "id": "1add2032",
   "metadata": {},
   "outputs": [
    {
     "data": {
      "text/plain": [
       "tauchen (generic function with 1 method)"
      ]
     },
     "execution_count": 408,
     "metadata": {},
     "output_type": "execute_result"
    }
   ],
   "source": [
    "function tauchen(N, ρ, σ,  n_std)   # Tauchen Method\n",
    "    # Get discretized space\n",
    "    Y_N = n_std * sqrt(σ^2 / (1 - ρ^2))\n",
    "    y = range(-Y_N, stop=Y_N, length=N)\n",
    "    d = y[2] - y[1]\n",
    "\n",
    "    # Get transition probabilities\n",
    "    Π = zeros(N, N)\n",
    "    for row = 1:N\n",
    "        # Do end points first\n",
    "        Π[row, 1] = std_norm_cdf((y[1] - ρ*y[row] + d/2) / σ)\n",
    "        Π[row, N] = 1 - std_norm_cdf((y[N] - ρ*y[row] - d/2) / σ)\n",
    "\n",
    "        # fill in the middle columns\n",
    "        for col = 2:N-1\n",
    "            Π[row, col] = (std_norm_cdf((y[col] - ρ*y[row] + d/2) / σ) -\n",
    "                           std_norm_cdf((y[col] - ρ*y[row] - d/2) / σ))\n",
    "        end\n",
    "    end\n",
    "    return (Π,collect(y))\n",
    "    \n",
    "end"
   ]
  },
  {
   "cell_type": "code",
   "execution_count": 19,
   "id": "dde1d645",
   "metadata": {},
   "outputs": [
    {
     "name": "stderr",
     "output_type": "stream",
     "text": [
      "\u001b[32m\u001b[1m   Resolving\u001b[22m\u001b[39m package versions...\n",
      "\u001b[32m\u001b[1m  No Changes\u001b[22m\u001b[39m to `C:\\Users\\joseb\\.julia\\environments\\v1.7\\Project.toml`\n",
      "\u001b[32m\u001b[1m  No Changes\u001b[22m\u001b[39m to `C:\\Users\\joseb\\.julia\\environments\\v1.7\\Manifest.toml`\n"
     ]
    }
   ],
   "source": [
    "Pkg.add(\"Optim\");"
   ]
  },
  {
   "cell_type": "code",
   "execution_count": 18,
   "id": "e01ca092",
   "metadata": {},
   "outputs": [
    {
     "name": "stderr",
     "output_type": "stream",
     "text": [
      "\u001b[32m\u001b[1m   Resolving\u001b[22m\u001b[39m package versions...\n",
      "\u001b[32m\u001b[1m  No Changes\u001b[22m\u001b[39m to `C:\\Users\\joseb\\.julia\\environments\\v1.7\\Project.toml`\n",
      "\u001b[32m\u001b[1m  No Changes\u001b[22m\u001b[39m to `C:\\Users\\joseb\\.julia\\environments\\v1.7\\Manifest.toml`\n"
     ]
    }
   ],
   "source": [
    "Pkg.add(\"NLopt\");"
   ]
  },
  {
   "cell_type": "code",
   "execution_count": 558,
   "id": "a382c85b",
   "metadata": {
    "scrolled": true
   },
   "outputs": [
    {
     "data": {
      "text/plain": [
       "([0.17916323337444012 0.8047923996364443 0.01604436698911571; 0.06289321231947004 0.8742135753610598 0.0628932123194701; 0.016044366989115655 0.8047923996364442 0.17916323337444018], [-1.2247448713915892, 0.0, 1.2247448713915892])"
      ]
     },
     "execution_count": 558,
     "metadata": {},
     "output_type": "execute_result"
    }
   ],
   "source": [
    "(P_t, range_t) = tauchen(3,0.2,0.4,3)"
   ]
  },
  {
   "cell_type": "code",
   "execution_count": 674,
   "id": "9eba9ed3",
   "metadata": {},
   "outputs": [
    {
     "data": {
      "text/plain": [
       "3-element Vector{Float64}:\n",
       " -1.2247448713915892\n",
       "  0.0\n",
       "  1.2247448713915892"
      ]
     },
     "execution_count": 674,
     "metadata": {},
     "output_type": "execute_result"
    }
   ],
   "source": [
    "range_t"
   ]
  },
  {
   "cell_type": "code",
   "execution_count": 560,
   "id": "0a44a574",
   "metadata": {},
   "outputs": [
    {
     "data": {
      "text/plain": [
       "3×3 Matrix{Float64}:\n",
       " 0.179163   0.804792  0.0160444\n",
       " 0.0628932  0.874214  0.0628932\n",
       " 0.0160444  0.804792  0.179163"
      ]
     },
     "execution_count": 560,
     "metadata": {},
     "output_type": "execute_result"
    }
   ],
   "source": [
    "P_t"
   ]
  },
  {
   "cell_type": "markdown",
   "id": "58ed21f8",
   "metadata": {},
   "source": [
    "#### Question 2"
   ]
  },
  {
   "cell_type": "code",
   "execution_count": 2,
   "id": "161815a2",
   "metadata": {},
   "outputs": [
    {
     "data": {
      "text/plain": [
       "_rouwenhorst2 (generic function with 1 method)"
      ]
     },
     "execution_count": 2,
     "metadata": {},
     "output_type": "execute_result"
    }
   ],
   "source": [
    "function _rouwenhorst2(ρ, σ::Real, n::Integer)\n",
    "    \n",
    "    σ_y = σ / sqrt(1-ρ^2)\n",
    "    p  = (1+ρ)/2\n",
    "    Θ = [p 1-p; 1-p p]\n",
    "    ψ = sqrt(n-1) * σ_y\n",
    "    q  = (1+ρ)/2\n",
    "    \n",
    "    if n == 2\n",
    "        return [-ψ, ψ],  [p 1-p; 1-q q]\n",
    "    else\n",
    "        _, θ_nm1 = _rouwenhorst2(ρ, σ, n-1)\n",
    "        θN = p    *[θ_nm1 zeros(n-1, 1); zeros(1, n)] +\n",
    "             (1-p)*[zeros(n-1, 1) θ_nm1; zeros(1, n)] +\n",
    "             q    *[zeros(1, n); zeros(n-1, 1) θ_nm1] +\n",
    "             (1-q)*[zeros(1, n); θ_nm1 zeros(n-1, 1)]\n",
    "\n",
    "        θN[2:end-1, :] ./= 2\n",
    "\n",
    "        return collect(range(-ψ, stop=ψ, length=n)), θN\n",
    "    end\n",
    "end\n"
   ]
  },
  {
   "cell_type": "code",
   "execution_count": 8,
   "id": "c9f218a0",
   "metadata": {},
   "outputs": [
    {
     "data": {
      "text/plain": [
       "([-0.7412493166611012, 0.0, 0.7412493166611012], [0.42250000000000004 0.45499999999999996 0.12249999999999998; 0.22749999999999998 0.545 0.22749999999999998; 0.12249999999999998 0.45499999999999996 0.42250000000000004])"
      ]
     },
     "execution_count": 8,
     "metadata": {},
     "output_type": "execute_result"
    }
   ],
   "source": [
    "(Range, Prob) = _rouwenhorst2(0.3, 0.5, 3)"
   ]
  },
  {
   "cell_type": "code",
   "execution_count": 9,
   "id": "62ddba7c",
   "metadata": {},
   "outputs": [
    {
     "data": {
      "text/plain": [
       "3×3 Base.Matrix{Float64}:\n",
       " 0.4225  0.455  0.1225\n",
       " 0.2275  0.545  0.2275\n",
       " 0.1225  0.455  0.4225"
      ]
     },
     "execution_count": 9,
     "metadata": {},
     "output_type": "execute_result"
    }
   ],
   "source": [
    "Prob"
   ]
  },
  {
   "cell_type": "code",
   "execution_count": 10,
   "id": "dfaae0b5",
   "metadata": {},
   "outputs": [
    {
     "data": {
      "text/plain": [
       "3-element Vector{Float64}:\n",
       " -0.7412493166611012\n",
       "  0.0\n",
       "  0.7412493166611012"
      ]
     },
     "execution_count": 10,
     "metadata": {},
     "output_type": "execute_result"
    }
   ],
   "source": [
    "Range"
   ]
  },
  {
   "cell_type": "markdown",
   "id": "e78601eb",
   "metadata": {},
   "source": [
    "#### Question 3"
   ]
  },
  {
   "cell_type": "code",
   "execution_count": 565,
   "id": "a35d1409",
   "metadata": {},
   "outputs": [
    {
     "data": {
      "text/plain": [
       "simulate_ar1 (generic function with 2 methods)"
      ]
     },
     "execution_count": 565,
     "metadata": {},
     "output_type": "execute_result"
    }
   ],
   "source": [
    "function simulate_ar1(phi::Any, n::Any, σ) # function that computes the AR1\n",
    "\n",
    "y = [0.0 for i = 1:n]\n",
    "\n",
    "noise = rand(Normal(0, σ), n)\n",
    "\n",
    "for i in 1:(n-1)\n",
    "y[1]=0\n",
    "y[i+1] = phi*y[i] + noise[i] \n",
    "end\n",
    "\n",
    "return y \n",
    "end"
   ]
  },
  {
   "cell_type": "code",
   "execution_count": 566,
   "id": "fe9413fa",
   "metadata": {},
   "outputs": [],
   "source": [
    "y_ar1=simulate_ar1(0.2, 1000, 0.4);"
   ]
  },
  {
   "cell_type": "code",
   "execution_count": 675,
   "id": "f1ddd825",
   "metadata": {},
   "outputs": [
    {
     "data": {
      "text/plain": [
       "1000-element Vector{Float64}:\n",
       "  0.0\n",
       " -0.6082165417654758\n",
       "  0.6092855333875722\n",
       "  5.58505080790056e-5\n",
       "  0.14543521879420365\n",
       "  0.7657150507879649\n",
       " -0.01049918243582737\n",
       "  0.27479720482832315\n",
       " -0.06251485269686058\n",
       " -0.050056821014214894\n",
       "  0.0870225153280586\n",
       " -0.47625123739242403\n",
       " -0.14792345863633505\n",
       "  ⋮\n",
       "  0.021783373041462172\n",
       "  0.36486560587541145\n",
       " -0.03690048626223287\n",
       "  0.3850329665739796\n",
       " -0.16240437636228516\n",
       "  0.5126921434437027\n",
       " -0.10379873928311881\n",
       "  0.656610657978269\n",
       " -0.10503417253339203\n",
       "  0.4023380992204816\n",
       "  0.478119785437581\n",
       " -0.30903347597119696"
      ]
     },
     "execution_count": 675,
     "metadata": {},
     "output_type": "execute_result"
    }
   ],
   "source": [
    "y_ar1"
   ]
  },
  {
   "cell_type": "code",
   "execution_count": 568,
   "id": "7a505d3e",
   "metadata": {},
   "outputs": [
    {
     "name": "stderr",
     "output_type": "stream",
     "text": [
      "\u001b[32m\u001b[1m   Resolving\u001b[22m\u001b[39m package versions...\n",
      "\u001b[32m\u001b[1m  No Changes\u001b[22m\u001b[39m to `C:\\Users\\joseb\\.julia\\environments\\v1.7\\Project.toml`\n",
      "\u001b[32m\u001b[1m  No Changes\u001b[22m\u001b[39m to `C:\\Users\\joseb\\.julia\\environments\\v1.7\\Manifest.toml`\n"
     ]
    }
   ],
   "source": [
    "Pkg.add(\"QuantEcon\")"
   ]
  },
  {
   "cell_type": "code",
   "execution_count": 265,
   "id": "07fdf855",
   "metadata": {},
   "outputs": [],
   "source": [
    "using QuantEcon"
   ]
  },
  {
   "cell_type": "code",
   "execution_count": 649,
   "id": "e3767110",
   "metadata": {},
   "outputs": [],
   "source": [
    "mc = MarkovChain(P_t)\n",
    "X_t = simulate_indices(mc, 1000, init=2); # simulates generates a draw from a Markov process"
   ]
  },
  {
   "cell_type": "code",
   "execution_count": 650,
   "id": "0f48df43",
   "metadata": {
    "scrolled": true
   },
   "outputs": [],
   "source": [
    "X_t;# the output is a position vector. X_t refers to Tauchen"
   ]
  },
  {
   "cell_type": "code",
   "execution_count": 651,
   "id": "8d798c94",
   "metadata": {},
   "outputs": [],
   "source": [
    "ysim_t=range_t[X_t];"
   ]
  },
  {
   "cell_type": "code",
   "execution_count": 676,
   "id": "86eb04e2",
   "metadata": {},
   "outputs": [
    {
     "data": {
      "text/plain": [
       "1000-element Vector{Float64}:\n",
       "  0.0\n",
       "  0.0\n",
       "  0.0\n",
       "  0.0\n",
       " -1.2247448713915892\n",
       "  0.0\n",
       "  0.0\n",
       "  0.0\n",
       "  1.2247448713915892\n",
       "  0.0\n",
       "  0.0\n",
       "  0.0\n",
       "  0.0\n",
       "  ⋮\n",
       "  0.0\n",
       "  0.0\n",
       "  0.0\n",
       "  0.0\n",
       "  0.0\n",
       " -1.2247448713915892\n",
       "  0.0\n",
       "  0.0\n",
       "  0.0\n",
       "  0.0\n",
       "  0.0\n",
       "  0.0"
      ]
     },
     "execution_count": 676,
     "metadata": {},
     "output_type": "execute_result"
    }
   ],
   "source": [
    "ysim_t"
   ]
  },
  {
   "cell_type": "code",
   "execution_count": 653,
   "id": "b7693ddf",
   "metadata": {},
   "outputs": [],
   "source": [
    "mc = MarkovChain(P_r)\n",
    "X_r = simulate_indices(mc, 1000, init=2); # simulates generates a draw from a Markov process (rouwenhorst)\n",
    "# init=2 means that the initial C"
   ]
  },
  {
   "cell_type": "code",
   "execution_count": 654,
   "id": "dc229a29",
   "metadata": {},
   "outputs": [],
   "source": [
    "X_r; #rouwenhorst"
   ]
  },
  {
   "cell_type": "code",
   "execution_count": 655,
   "id": "105f7624",
   "metadata": {},
   "outputs": [],
   "source": [
    "ysim_r=range_r[X_r];"
   ]
  },
  {
   "cell_type": "code",
   "execution_count": 656,
   "id": "b95e4d60",
   "metadata": {},
   "outputs": [
    {
     "name": "stdout",
     "output_type": "stream",
     "text": [
      "┌──────────┬───────────┬──────────┬─────────────────┬────────────┬───────────┬──────────┐\n",
      "│\u001b[1m   method \u001b[0m│\u001b[1m      mean \u001b[0m│\u001b[1m variance \u001b[0m│\u001b[1m autocorrelation \u001b[0m│\u001b[1m     median \u001b[0m│\u001b[1m       P10 \u001b[0m│\u001b[1m      P90 \u001b[0m│\n",
      "├──────────┼───────────┼──────────┼─────────────────┼────────────┼───────────┼──────────┤\n",
      "│ true AR1 │ 0.0344152 │ 0.165547 │         0.23371 │ 0.00303175 │ -0.482077 │ 0.582212 │\n",
      "│  tauchen │ 0.0110227 │ 0.187566 │        0.127434 │        0.0 │       0.0 │      0.0 │\n",
      "│   rouwen │ 0.0109697 │ 0.168381 │        0.245042 │        0.0 │  -0.57735 │  0.57735 │\n",
      "└──────────┴───────────┴──────────┴─────────────────┴────────────┴───────────┴──────────┘\n"
     ]
    }
   ],
   "source": [
    "tab_out = [\"true AR1\" mean(y_ar1) var(y_ar1) autocor(y_ar1,[1]) quantile(y_ar1, [0.5 0.1 0.9]);\n",
    "           \"tauchen\" mean(ysim_t) var(ysim_t) autocor(ysim_t,[1]) quantile(ysim_t, [0.5 0.1 0.9]);\n",
    "           \"rouwen\" mean(ysim_r) var(ysim_r) autocor(ysim_r,[1]) quantile(ysim_r, [0.5 0.1 0.9])]\n",
    "header = [\"method\", \"mean\", \"variance\", \"autocorrelation\", \"median\", \"P10\", \"P90\"]\n",
    "pretty_table(tab_out; header)"
   ]
  },
  {
   "cell_type": "markdown",
   "id": "97b0c945",
   "metadata": {},
   "source": [
    "Altough the N=3 (very few states), With low persistence, there is no huge difference between the two methods (the difference we see in the table regarding the variance and the autocorrelation are sesntive to different draws from the Markov Chains (also t=1000 is not much)."
   ]
  },
  {
   "cell_type": "markdown",
   "id": "41c37050",
   "metadata": {},
   "source": [
    "## Question 4"
   ]
  },
  {
   "cell_type": "code",
   "execution_count": 625,
   "id": "6cb16788",
   "metadata": {},
   "outputs": [
    {
     "data": {
      "text/plain": [
       "tauchenplus (generic function with 1 method)"
      ]
     },
     "execution_count": 625,
     "metadata": {},
     "output_type": "execute_result"
    }
   ],
   "source": [
    "function tauchenplus(N,ρ)\n",
    "  (Pt, yt) = tauchen(N,ρ,0.4,3)\n",
    "   mct = MarkovChain(Pt)\n",
    "   xt = simulate_indices(mct, 1000, init=ceil(Int, N/2)); # simulates generates a draw from a Markov process using  T method\n",
    "   ysim_t_ρ=yt[xt]\n",
    "return ysim_t_ρ\n",
    "end"
   ]
  },
  {
   "cell_type": "code",
   "execution_count": 626,
   "id": "8aaced2c",
   "metadata": {},
   "outputs": [],
   "source": [
    "ysim_t_10=tauchenplus(10,0.2);"
   ]
  },
  {
   "cell_type": "code",
   "execution_count": 627,
   "id": "5f996717",
   "metadata": {},
   "outputs": [
    {
     "data": {
      "text/plain": [
       "rouwennplus (generic function with 1 method)"
      ]
     },
     "execution_count": 627,
     "metadata": {},
     "output_type": "execute_result"
    }
   ],
   "source": [
    "function rouwennplus(N,ρ)\n",
    "  (yr, Pr) = _rouwenhorst2(ρ, 0.4, N)\n",
    "  mcr = MarkovChain(Pr)\n",
    "  xr = simulate_indices(mcr, 1000, init=ceil(Int, N/2)); # simulates generates a draw from a Markov process\n",
    "  ysim_r_ρ=yr[xr]\n",
    "return  ysim_r_ρ\n",
    "end"
   ]
  },
  {
   "cell_type": "code",
   "execution_count": 628,
   "id": "81a23ce7",
   "metadata": {},
   "outputs": [],
   "source": [
    "ysim_r_10=rouwennplus(10,0.2);"
   ]
  },
  {
   "cell_type": "code",
   "execution_count": 629,
   "id": "6b8c44fd",
   "metadata": {},
   "outputs": [
    {
     "name": "stdout",
     "output_type": "stream",
     "text": [
      "┌──────────┬───────────┬──────────┬─────────────────┬────────────┬───────────┬──────────┐\n",
      "│\u001b[1m   method \u001b[0m│\u001b[1m      mean \u001b[0m│\u001b[1m variance \u001b[0m│\u001b[1m autocorrelation \u001b[0m│\u001b[1m     median \u001b[0m│\u001b[1m       P10 \u001b[0m│\u001b[1m      P90 \u001b[0m│\n",
      "├──────────┼───────────┼──────────┼─────────────────┼────────────┼───────────┼──────────┤\n",
      "│ true AR1 │ 0.0344152 │ 0.165547 │         0.23371 │ 0.00303175 │ -0.482077 │ 0.582212 │\n",
      "│  tauchen │ 0.0195959 │ 0.159331 │        0.168692 │   0.136083 │ -0.408248 │ 0.408248 │\n",
      "│   rouwen │ 0.0236784 │ 0.155447 │        0.175184 │   0.136083 │ -0.408248 │ 0.408248 │\n",
      "└──────────┴───────────┴──────────┴─────────────────┴────────────┴───────────┴──────────┘\n"
     ]
    }
   ],
   "source": [
    "tab_out = [\"true AR1\" mean(y_ar1) var(y_ar1) autocor(y_ar1,[1]) quantile(y_ar1, [0.5 0.1 0.9]);\n",
    "           \"tauchen\" mean(ysim_t_10) var(ysim_t_10) autocor(ysim_t_10,[1]) quantile(ysim_t_10, [0.5 0.1 0.9]);\n",
    "           \"rouwen\" mean(ysim_r_10) var(ysim_r_10) autocor(ysim_r_10,[1]) quantile(ysim_r_10, [0.5 0.1 0.9])]\n",
    "header = [\"method\", \"mean\", \"variance\", \"autocorrelation\", \"median\", \"P10\", \"P90\"]\n",
    "pretty_table(tab_out; header)"
   ]
  },
  {
   "cell_type": "markdown",
   "id": "5bceb041",
   "metadata": {},
   "source": [
    "With N=10, and still With low persistence, there is no huge difference between the two methods. In both cases using N=10 improves the approximation of an AR1 in both methods. As we can see in the table the estimation of the variance is very precise and there is an improvment regarding the estimation of the autocorrelation with respect to the case with N=3"
   ]
  },
  {
   "cell_type": "markdown",
   "id": "b7ffb8a1",
   "metadata": {},
   "source": [
    "## Question 5"
   ]
  },
  {
   "cell_type": "markdown",
   "id": "bb0b8d81",
   "metadata": {},
   "source": [
    "# ρ=0.7 "
   ]
  },
  {
   "cell_type": "code",
   "execution_count": 666,
   "id": "b5c25636",
   "metadata": {},
   "outputs": [],
   "source": [
    "ysim_t_1=tauchenplus(3,0.7);\n",
    "ysim_r_1=rouwennplus(3,0.7);\n",
    "yar1=simulate_ar1(0.7, 1000, 0.4);\n",
    "ysim_t_2=tauchenplus(10,0.7);\n",
    "ysim_r_2=rouwennplus(10,0.7);"
   ]
  },
  {
   "cell_type": "code",
   "execution_count": 667,
   "id": "77af2d8b",
   "metadata": {},
   "outputs": [
    {
     "data": {
      "text/plain": [
       "1000-element Vector{Float64}:\n",
       "  0.0\n",
       "  0.0\n",
       "  0.0\n",
       "  0.0\n",
       "  0.0\n",
       " -1.680336100833612\n",
       " -1.680336100833612\n",
       " -1.680336100833612\n",
       " -1.680336100833612\n",
       " -1.680336100833612\n",
       " -1.680336100833612\n",
       " -1.680336100833612\n",
       " -1.680336100833612\n",
       "  ⋮\n",
       "  0.0\n",
       "  0.0\n",
       "  0.0\n",
       "  0.0\n",
       "  0.0\n",
       "  0.0\n",
       "  0.0\n",
       "  0.0\n",
       "  0.0\n",
       "  0.0\n",
       "  0.0\n",
       "  0.0"
      ]
     },
     "execution_count": 667,
     "metadata": {},
     "output_type": "execute_result"
    }
   ],
   "source": [
    "ysim_t_1"
   ]
  },
  {
   "cell_type": "code",
   "execution_count": 665,
   "id": "b1970b81",
   "metadata": {},
   "outputs": [
    {
     "name": "stdout",
     "output_type": "stream",
     "text": [
      "┌──────────┬────┬─────────────┬──────────┬─────────────────┬────────────┬───────────┬──────────┐\n",
      "│\u001b[1m   method \u001b[0m│\u001b[1m  N \u001b[0m│\u001b[1m        mean \u001b[0m│\u001b[1m variance \u001b[0m│\u001b[1m autocorrelation \u001b[0m│\u001b[1m     median \u001b[0m│\u001b[1m       P10 \u001b[0m│\u001b[1m      P90 \u001b[0m│\n",
      "├──────────┼────┼─────────────┼──────────┼─────────────────┼────────────┼───────────┼──────────┤\n",
      "│ true AR1 │  0 │  -0.0469864 │ 0.281148 │        0.662018 │ -0.0406872 │ -0.747202 │ 0.641441 │\n",
      "│  Tauchen │  3 │  0.00168034 │  0.37025 │        0.778624 │        0.0 │       0.0 │      0.0 │\n",
      "│   rouwen │  3 │  -0.0213872 │ 0.328027 │         0.72428 │        0.0 │ -0.792118 │ 0.792118 │\n",
      "│  tauchen │ 10 │ -0.00261386 │  0.34418 │        0.714213 │  -0.186704 │ -0.597453 │  0.93352 │\n",
      "│   rouwen │ 10 │  -0.0433153 │ 0.264986 │        0.691914 │  -0.186704 │ -0.560112 │ 0.560112 │\n",
      "└──────────┴────┴─────────────┴──────────┴─────────────────┴────────────┴───────────┴──────────┘\n"
     ]
    }
   ],
   "source": [
    "tab_out = [\"true AR1\" 0 mean(yar1) var(yar1) autocor(yar1,[1]) quantile(yar1, [0.5 0.1 0.9]);\n",
    "           \"Tauchen\" 3 mean(ysim_t_1) var(ysim_t_1) autocor(ysim_t_1,[1]) quantile(ysim_t_1, [0.5 0.1 0.9]);\n",
    "           \"rouwen\" 3 mean(ysim_r_1) var(ysim_r_1) autocor(ysim_r_1,[1]) quantile(ysim_r_1, [0.5 0.1 0.9]);\n",
    "           \"tauchen\" 10 mean(ysim_t_2) var(ysim_t_2) autocor(ysim_t_2,[1]) quantile(ysim_t_2, [0.5 0.1 0.9]);\n",
    "           \"rouwen\" 10 mean(ysim_r_2) var(ysim_r_2) autocor(ysim_r_2,[1]) quantile(ysim_r_2, [0.5 0.1 0.9])]\n",
    "header = [\"method\", \"N\", \"mean\", \"variance\", \"autocorrelation\", \"median\", \"P10\", \"P90\"]\n",
    "pretty_table(tab_out; header)"
   ]
  },
  {
   "cell_type": "markdown",
   "id": "ceb240f0",
   "metadata": {},
   "source": [
    "# ρ=0.9 "
   ]
  },
  {
   "cell_type": "code",
   "execution_count": 668,
   "id": "97a71061",
   "metadata": {},
   "outputs": [],
   "source": [
    "ysim_t_1=tauchenplus(3,0.9);\n",
    "ysim_r_1=rouwennplus(3,0.9);\n",
    "yar1=simulate_ar1(0.9, 1000, 0.4);\n",
    "ysim_t_2=tauchenplus(10,0.9);\n",
    "ysim_r_2=rouwennplus(10,0.9);"
   ]
  },
  {
   "cell_type": "code",
   "execution_count": 669,
   "id": "19c11461",
   "metadata": {},
   "outputs": [],
   "source": [
    "ysim_t_1;"
   ]
  },
  {
   "cell_type": "code",
   "execution_count": 670,
   "id": "b1f593df",
   "metadata": {},
   "outputs": [
    {
     "name": "stdout",
     "output_type": "stream",
     "text": [
      "┌──────────┬────┬────────────┬──────────┬─────────────────┬───────────┬───────────┬──────────┐\n",
      "│\u001b[1m   method \u001b[0m│\u001b[1m  N \u001b[0m│\u001b[1m       mean \u001b[0m│\u001b[1m variance \u001b[0m│\u001b[1m autocorrelation \u001b[0m│\u001b[1m    median \u001b[0m│\u001b[1m       P10 \u001b[0m│\u001b[1m      P90 \u001b[0m│\n",
      "├──────────┼────┼────────────┼──────────┼─────────────────┼───────────┼───────────┼──────────┤\n",
      "│ true AR1 │  0 │ -0.0464333 │  0.70736 │        0.873928 │ 0.0139644 │  -1.08714 │ 0.926286 │\n",
      "│  Tauchen │  3 │   0.553351 │  1.21839 │        0.994773 │       0.0 │       0.0 │  2.75299 │\n",
      "│   rouwen │  3 │  -0.016871 │ 0.844349 │        0.874235 │       0.0 │  -1.29777 │  1.29777 │\n",
      "│  tauchen │ 10 │  -0.226357 │  1.17604 │        0.912307 │ -0.305888 │  -1.52944 │ 0.917663 │\n",
      "│   rouwen │ 10 │  -0.115014 │ 0.754029 │        0.895799 │ -0.305888 │ -0.917663 │ 0.917663 │\n",
      "└──────────┴────┴────────────┴──────────┴─────────────────┴───────────┴───────────┴──────────┘\n"
     ]
    }
   ],
   "source": [
    "tab_out = [\"true AR1\" 0 mean(yar1) var(yar1) autocor(yar1,[1]) quantile(yar1, [0.5 0.1 0.9]);\n",
    "           \"Tauchen\" 3 mean(ysim_t_1) var(ysim_t_1) autocor(ysim_t_1,[1]) quantile(ysim_t_1, [0.5 0.1 0.9]);\n",
    "           \"rouwen\" 3 mean(ysim_r_1) var(ysim_r_1) autocor(ysim_r_1,[1]) quantile(ysim_r_1, [0.5 0.1 0.9]);\n",
    "           \"tauchen\" 10 mean(ysim_t_2) var(ysim_t_2) autocor(ysim_t_2,[1]) quantile(ysim_t_2, [0.5 0.1 0.9]);\n",
    "           \"rouwen\" 10 mean(ysim_r_2) var(ysim_r_2) autocor(ysim_r_2,[1]) quantile(ysim_r_2, [0.5 0.1 0.9])]\n",
    "header = [\"method\", \"N\", \"mean\", \"variance\", \"autocorrelation\", \"median\", \"P10\", \"P90\"]\n",
    "pretty_table(tab_out; header)"
   ]
  },
  {
   "cell_type": "markdown",
   "id": "1e92c00f",
   "metadata": {},
   "source": [
    "# ρ=0.98 "
   ]
  },
  {
   "cell_type": "code",
   "execution_count": 671,
   "id": "1b6a9ed1",
   "metadata": {},
   "outputs": [],
   "source": [
    "ysim_t_1=tauchenplus(3,0.98);\n",
    "ysim_r_1=rouwennplus(3,0.98);\n",
    "yar1=simulate_ar1(0.98, 1000, 0.4);\n",
    "ysim_t_2=tauchenplus(10,0.98);\n",
    "ysim_r_2=rouwennplus(10,0.98);"
   ]
  },
  {
   "cell_type": "code",
   "execution_count": 672,
   "id": "e3306ce4",
   "metadata": {},
   "outputs": [],
   "source": [
    "yar1;"
   ]
  },
  {
   "cell_type": "code",
   "execution_count": 673,
   "id": "2fd73fc8",
   "metadata": {},
   "outputs": [
    {
     "name": "stdout",
     "output_type": "stream",
     "text": [
      "┌──────────┬────┬───────────┬──────────┬─────────────────┬───────────┬───────────┬─────────┐\n",
      "│\u001b[1m   method \u001b[0m│\u001b[1m  N \u001b[0m│\u001b[1m      mean \u001b[0m│\u001b[1m variance \u001b[0m│\u001b[1m autocorrelation \u001b[0m│\u001b[1m    median \u001b[0m│\u001b[1m       P10 \u001b[0m│\u001b[1m     P90 \u001b[0m│\n",
      "├──────────┼────┼───────────┼──────────┼─────────────────┼───────────┼───────────┼─────────┤\n",
      "│ true AR1 │  0 │ -0.629682 │  3.95962 │        0.980101 │ -0.803109 │  -2.92525 │ 2.38134 │\n",
      "│  Tauchen │  3 │       0.0 │      0.0 │             NaN │       0.0 │       0.0 │     0.0 │\n",
      "│   rouwen │  3 │  0.466199 │  4.05338 │        0.975999 │       0.0 │  -2.84268 │ 2.84268 │\n",
      "│  tauchen │ 10 │    1.7166 │   2.8923 │         0.96709 │   2.01008 │ -0.670025 │ 3.35013 │\n",
      "│   rouwen │ 10 │  0.986277 │  4.16723 │        0.980793 │  0.670025 │  -2.01008 │ 4.69018 │\n",
      "└──────────┴────┴───────────┴──────────┴─────────────────┴───────────┴───────────┴─────────┘\n"
     ]
    }
   ],
   "source": [
    "tab_out = [\"true AR1\" 0 mean(yar1) var(yar1) autocor(yar1,[1]) quantile(yar1, [0.5 0.1 0.9]);\n",
    "           \"Tauchen\" 3 mean(ysim_t_1) var(ysim_t_1) autocor(ysim_t_1,[1]) quantile(ysim_t_1, [0.5 0.1 0.9]);\n",
    "           \"rouwen\" 3 mean(ysim_r_1) var(ysim_r_1) autocor(ysim_r_1,[1]) quantile(ysim_r_1, [0.5 0.1 0.9]);\n",
    "           \"tauchen\" 10 mean(ysim_t_2) var(ysim_t_2) autocor(ysim_t_2,[1]) quantile(ysim_t_2, [0.5 0.1 0.9]);\n",
    "           \"rouwen\" 10 mean(ysim_r_2) var(ysim_r_2) autocor(ysim_r_2,[1]) quantile(ysim_r_2, [0.5 0.1 0.9])]\n",
    "header = [\"method\", \"N\", \"mean\", \"variance\", \"autocorrelation\", \"median\", \"P10\", \"P90\"]\n",
    "pretty_table(tab_out; header)"
   ]
  },
  {
   "cell_type": "markdown",
   "id": "c5409fa8",
   "metadata": {},
   "source": [
    "# Exercise 6"
   ]
  },
  {
   "cell_type": "markdown",
   "id": "dde94afb",
   "metadata": {},
   "source": [
    "As we can see in point 5 the Rouwenhorst method is more occurate for highly persistent processes (the estimation of the variance and autocorrelations is more accurate). In the three cases (rho=0.7, rho=0.90 and rho=0.98) the approximation of the AR1 is better using the Rouwenhorst method (variance and autocorrelation closer to the true AR1)\n",
    "\n",
    "Also note that the Tauchen method with N=3 and rho=0.98 has no result. This occurs because we choose the initial value of the Markov process to be the median of the states (in the case n=3 this initial state is 0). Therefore, since rho=0.98 (there is a lot of persistance) the process stays at the initial state. We can change this result by changing the starting point (such as a radom draw from all states) but by doing that we pay the cost of being inconsistent with the choice of the initial value of the AR1 (it starts in the mean=0) and still we do not have an accurate approximation (variance too high). Therefore, the Tauchen method is not an accurate approximation when the AR1 is persistent.\n",
    "\n",
    "Regarding the difference between N=10 and N=3 we can see that the approximation of the Rouwenhorst method improves when N increase. As we pointed out the performance of the Tauchen method is not accurate when persistence is high.\n",
    "\n",
    "In the case with low persistence (rho=0.2) we can see that there is an improvment in the approximation in both methods (both work well) when N increases."
   ]
  }
 ],
 "metadata": {
  "kernelspec": {
   "display_name": "Julia 1.8.2",
   "language": "julia",
   "name": "julia-1.8"
  },
  "language_info": {
   "file_extension": ".jl",
   "mimetype": "application/julia",
   "name": "julia",
   "version": "1.8.2"
  }
 },
 "nbformat": 4,
 "nbformat_minor": 5
}
