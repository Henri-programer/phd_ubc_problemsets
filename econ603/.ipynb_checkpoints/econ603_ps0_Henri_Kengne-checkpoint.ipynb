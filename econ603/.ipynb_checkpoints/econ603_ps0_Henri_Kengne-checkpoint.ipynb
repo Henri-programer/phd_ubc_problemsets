{
 "cells": [
  {
   "cell_type": "markdown",
   "id": "3bd96e28-75af-4a68-a058-57e8b021f1ac",
   "metadata": {},
   "source": [
    "### Student: Henri Noel Kengne\n",
    "#### Approximation of auto-regressive processes using Tauchen and Rouwenhorst methods.\n",
    "##### suorce: We adapt our code from https://github.com/robertdkirkby/economics-with-julia/blob/master/tauchenmethod.jl"
   ]
  },
  {
   "cell_type": "code",
   "execution_count": 56,
   "id": "9ff92c54-d1aa-4082-822b-34083b08b33f",
   "metadata": {},
   "outputs": [],
   "source": [
    "# Necessary Labraries\n",
    "\n",
    "import Pkg\n",
    "#Pkg.add(\"QuantEcon\")\n",
    "#Pkg.add(\"Optim\")\n",
    "#Pkg.add(\"NLopt\")\n",
    "#Pkg.add(\"StatsBase\")\n",
    "#Pkg.add(\"Parameters\")\n",
    "#Pkg.add(\"SpecialFunctions\")\n",
    "#Pkg.add(\"PrettyTables\")\n",
    "#Pkg.add(\"Distributions\")\n",
    "using Parameters, PrettyTables, Statistics, StatsBase\n",
    "using SpecialFunctions\n",
    "using QuantEcon\n",
    "import Optim\n",
    "import NLopt\n",
    "import Distributions: pdf, Normal, quantile"
   ]
  },
  {
   "cell_type": "code",
   "execution_count": 57,
   "id": "72ca55e8-0f38-4f4a-8d0c-398f04ffcd43",
   "metadata": {},
   "outputs": [
    {
     "data": {
      "text/plain": [
       "std_norm_cdf (generic function with 2 methods)"
      ]
     },
     "execution_count": 57,
     "metadata": {},
     "output_type": "execute_result"
    }
   ],
   "source": [
    "# Let us define the standard deviation for a normal distribution\n",
    "std_norm_cdf(x::T) where {T <: Real} = 0.5 * erfc(-x/sqrt(2))\n",
    "std_norm_cdf(x::Array{T}) where {T <: Real} = 0.5 .* erfc(-x./sqrt(2))"
   ]
  },
  {
   "cell_type": "markdown",
   "id": "59b24022-01cc-450f-86b4-113d66d85587",
   "metadata": {},
   "source": [
    "##### Question 1 : Tauchen Method"
   ]
  },
  {
   "cell_type": "code",
   "execution_count": 58,
   "id": "8718b6ed-4ed0-49f9-a943-05dc77f4a89b",
   "metadata": {},
   "outputs": [
    {
     "data": {
      "text/plain": [
       "tauchen_method (generic function with 1 method)"
      ]
     },
     "execution_count": 58,
     "metadata": {},
     "output_type": "execute_result"
    }
   ],
   "source": [
    "function tauchen_method(N, ρ, σ,  n_std)  \n",
    "    # State spaces\n",
    "    y_N = n_std * sqrt(σ^2 / (1 - ρ^2))\n",
    "    y = range(-y_N, stop=y_N, length=N)\n",
    "    d = y[2] - y[1]\n",
    "\n",
    "    # Get transition probabilities\n",
    "    Π = zeros(N, N)\n",
    "    for i = 1:N\n",
    "        # Do end points first\n",
    "        Π[i, 1] = std_norm_cdf((y[1] - ρ*y[i] + d/2) / σ)\n",
    "        Π[i, N] = 1 - std_norm_cdf((y[N] - ρ*y[i] - d/2) / σ)\n",
    "\n",
    "        # fill in the middle columns\n",
    "        for col = 2:N-1\n",
    "            Π[i, col] = (std_norm_cdf((y[col] - ρ*y[i] + d/2) / σ) -\n",
    "                           std_norm_cdf((y[col] - ρ*y[i] - d/2) / σ))\n",
    "        end\n",
    "    end\n",
    "    return (Π,collect(y))\n",
    "    \n",
    "end"
   ]
  },
  {
   "cell_type": "markdown",
   "id": "7d8b1241-77e0-43a5-a4e9-feb000f6ce3f",
   "metadata": {},
   "source": [
    "Let us run some tests"
   ]
  },
  {
   "cell_type": "code",
   "execution_count": 59,
   "id": "eb9c05a2-b532-4a13-b98c-f3912e8a9124",
   "metadata": {},
   "outputs": [
    {
     "data": {
      "text/plain": [
       "([0.046088496149018186 0.3930739289014992 … 0.08231238450009093 0.0018142739030139188; 0.0232838806934327 0.29973291503511856 … 0.13731201448438046 0.004626222801766833; … ; 0.004626222801766787 0.13731201448438055 … 0.29973291503511856 0.02328388069343268; 0.0018142739030138936 0.08231238450009103 … 0.39307392890149917 0.04608849614901822], [-1.2247448713915892, -0.6123724356957946, 0.0, 0.6123724356957946, 1.2247448713915892])"
      ]
     },
     "execution_count": 59,
     "metadata": {},
     "output_type": "execute_result"
    }
   ],
   "source": [
    "(Prob_tauchen, Range_tauchen) = tauchen_method(5,0.2,0.4,3)"
   ]
  },
  {
   "cell_type": "code",
   "execution_count": 60,
   "id": "888a58a7-0278-4d80-b539-6bf2fa9042ca",
   "metadata": {},
   "outputs": [
    {
     "data": {
      "text/plain": [
       "5-element Vector{Float64}:\n",
       " -1.2247448713915892\n",
       " -0.6123724356957946\n",
       "  0.0\n",
       "  0.6123724356957946\n",
       "  1.2247448713915892"
      ]
     },
     "execution_count": 60,
     "metadata": {},
     "output_type": "execute_result"
    }
   ],
   "source": [
    "Range_tauchen"
   ]
  },
  {
   "cell_type": "code",
   "execution_count": 61,
   "id": "9258e435-ddc8-4c83-9718-4dade646ae0f",
   "metadata": {},
   "outputs": [
    {
     "data": {
      "text/plain": [
       "5×5 Matrix{Float64}:\n",
       " 0.0460885   0.393074   0.476711  0.0823124  0.00181427\n",
       " 0.0232839   0.299733   0.535045  0.137312   0.00462622\n",
       " 0.0108266   0.211171   0.556006  0.211171   0.0108266\n",
       " 0.00462622  0.137312   0.535045  0.299733   0.0232839\n",
       " 0.00181427  0.0823124  0.476711  0.393074   0.0460885"
      ]
     },
     "execution_count": 61,
     "metadata": {},
     "output_type": "execute_result"
    }
   ],
   "source": [
    "Prob_tauchen"
   ]
  },
  {
   "cell_type": "markdown",
   "id": "95d925fb-f34f-41a8-81ef-9a7e9e3208e9",
   "metadata": {},
   "source": [
    "##### Question 2 : Rouwenhorst Method"
   ]
  },
  {
   "cell_type": "code",
   "execution_count": 62,
   "id": "3d7fbdfe-65b5-4dd6-a26d-a608a678ebe6",
   "metadata": {},
   "outputs": [
    {
     "data": {
      "text/plain": [
       "_rouwenhorst2 (generic function with 1 method)"
      ]
     },
     "execution_count": 62,
     "metadata": {},
     "output_type": "execute_result"
    }
   ],
   "source": [
    "function _rouwenhorst2(ρ, σ::Real, n::Integer)\n",
    "    \n",
    "    σ_y = σ / sqrt(1-ρ^2)\n",
    "    p  = (1+ρ)/2\n",
    "    Θ = [p 1-p; 1-p p]\n",
    "    ψ = sqrt(n-1) * σ_y\n",
    "    q  = (1+ρ)/2\n",
    "    \n",
    "    if n == 2\n",
    "        return [-ψ, ψ],  [p 1-p; 1-q q]\n",
    "    else\n",
    "        _, θ_nm1 = _rouwenhorst2(ρ, σ, n-1)\n",
    "        θ_N = p    *[θ_nm1 zeros(n-1, 1); zeros(1, n)] +\n",
    "             (1-p)*[zeros(n-1, 1) θ_nm1; zeros(1, n)] +\n",
    "             q    *[zeros(1, n); zeros(n-1, 1) θ_nm1] +\n",
    "             (1-q)*[zeros(1, n); θ_nm1 zeros(n-1, 1)]\n",
    "\n",
    "        θ_N[2:end-1, :] ./= 2\n",
    "\n",
    "        return collect(range(-ψ, stop=ψ, length=n)), θ_N\n",
    "    end\n",
    "end\n"
   ]
  },
  {
   "cell_type": "markdown",
   "id": "7da67f92-068e-4e8e-957f-9cb38cb8fbcb",
   "metadata": {},
   "source": [
    "Let us test the rouwenhorst function"
   ]
  },
  {
   "cell_type": "code",
   "execution_count": 63,
   "id": "6e5c349b-9ec9-424f-87fa-5ab229548689",
   "metadata": {},
   "outputs": [
    {
     "data": {
      "text/plain": [
       "([-0.7412493166611012, 0.0, 0.7412493166611012], [0.42250000000000004 0.45499999999999996 0.12249999999999998; 0.22749999999999998 0.545 0.22749999999999998; 0.12249999999999998 0.45499999999999996 0.42250000000000004])"
      ]
     },
     "execution_count": 63,
     "metadata": {},
     "output_type": "execute_result"
    }
   ],
   "source": [
    "(Range_rouwenhorst, Prob_rouwenhorst) = _rouwenhorst2(0.3, 0.5, 3)"
   ]
  },
  {
   "cell_type": "code",
   "execution_count": 64,
   "id": "ac0389e8-b65f-47d6-b9ce-d13b4e844341",
   "metadata": {},
   "outputs": [
    {
     "data": {
      "text/plain": [
       "3-element Vector{Float64}:\n",
       " -0.7412493166611012\n",
       "  0.0\n",
       "  0.7412493166611012"
      ]
     },
     "execution_count": 64,
     "metadata": {},
     "output_type": "execute_result"
    }
   ],
   "source": [
    "Range_rouwenhorst"
   ]
  },
  {
   "cell_type": "code",
   "execution_count": 65,
   "id": "fcb22764-1882-4a35-8ecc-f23c4f83799c",
   "metadata": {},
   "outputs": [
    {
     "data": {
      "text/plain": [
       "3×3 Matrix{Float64}:\n",
       " 0.4225  0.455  0.1225\n",
       " 0.2275  0.545  0.2275\n",
       " 0.1225  0.455  0.4225"
      ]
     },
     "execution_count": 65,
     "metadata": {},
     "output_type": "execute_result"
    }
   ],
   "source": [
    "Prob_rouwenhorst"
   ]
  },
  {
   "cell_type": "markdown",
   "id": "5ac63a0b-336c-485e-ac55-43a6f8c79ff1",
   "metadata": {},
   "source": [
    "#### Question 3\n",
    "Simmulation of 1000 periods of AR(1) process for ρ = 0.2, σ = 0.4 and N= 3 using the original both approximation and comparison of basic statistic figures"
   ]
  },
  {
   "cell_type": "code",
   "execution_count": 66,
   "id": "2a9f54ee-14a8-4115-bea5-99237c08bcef",
   "metadata": {},
   "outputs": [
    {
     "data": {
      "text/plain": [
       "ar1 (generic function with 1 method)"
      ]
     },
     "execution_count": 66,
     "metadata": {},
     "output_type": "execute_result"
    }
   ],
   "source": [
    "function ar1(phi::Any, n::Any, σ)\n",
    "\n",
    "y = [0.0 for i = 1:n]\n",
    "\n",
    "ϵ = rand(Normal(0, σ), n)\n",
    "\n",
    "for i in 1:(n-1)\n",
    "y[1]=0\n",
    "y[i+1] = phi*y[i] + ϵ[i] \n",
    "end\n",
    "\n",
    "return y \n",
    "end"
   ]
  },
  {
   "cell_type": "code",
   "execution_count": 86,
   "id": "e36a2ef6-56fd-4d34-95fa-e302c3518b03",
   "metadata": {},
   "outputs": [
    {
     "data": {
      "text/plain": [
       "1000-element Vector{Float64}:\n",
       "  0.0\n",
       "  0.09822078235725108\n",
       "  0.6560962863393864\n",
       "  0.7832287480064241\n",
       " -0.22130188618442168\n",
       " -0.49826320101816346\n",
       " -0.18711846715209696\n",
       "  0.9209185794060442\n",
       "  0.2168166834522306\n",
       "  0.21549965700680532\n",
       " -0.15149099409222963\n",
       " -0.09958342635993306\n",
       " -0.1678880889529198\n",
       "  ⋮\n",
       " -0.3086137289154225\n",
       "  0.3634690532263332\n",
       " -0.1662168266463587\n",
       " -0.16099347343497947\n",
       "  0.11972719702892762\n",
       "  0.04870395816851823\n",
       "  0.43879046465458477\n",
       "  0.15514715948133054\n",
       "  0.08323865214641354\n",
       "  0.11930378514458843\n",
       "  0.7348597462368941\n",
       "  0.32370216078245456"
      ]
     },
     "execution_count": 86,
     "metadata": {},
     "output_type": "execute_result"
    }
   ],
   "source": [
    "y_ar1 = ar1(0.2, 1000, 0.4)"
   ]
  },
  {
   "cell_type": "code",
   "execution_count": 79,
   "id": "b5b3646a-b03c-4882-a1c1-55e0fd79740c",
   "metadata": {},
   "outputs": [],
   "source": [
    "mc1 = MarkovChain(Prob_tauchen)\n",
    "X_tauchen = simulate_indices(mc1, 1000, init=2); # simulates generates a draw from a Markov process\n",
    "\n",
    "mc2 = MarkovChain(Prob_rouwenhorst)\n",
    "X_rouwenhorst = simulate_indices(mc2, 1000, init=2); # simulates generates a draw from a Markov process (rouwenhorst)\n",
    "# init=2 means that the initial C"
   ]
  },
  {
   "cell_type": "code",
   "execution_count": 80,
   "id": "c33d1524-1580-4148-84be-ad175c50e78c",
   "metadata": {},
   "outputs": [],
   "source": [
    "ysim_tauchen = Range_tauchen[X_tauchen];"
   ]
  },
  {
   "cell_type": "code",
   "execution_count": 81,
   "id": "be7592da-48e1-4e49-bfa9-ef0bdf2b2311",
   "metadata": {},
   "outputs": [
    {
     "data": {
      "text/plain": [
       "1000-element Vector{Float64}:\n",
       " -0.6123724356957946\n",
       " -0.6123724356957946\n",
       "  0.0\n",
       "  0.6123724356957946\n",
       "  0.0\n",
       "  0.0\n",
       " -0.6123724356957946\n",
       " -1.2247448713915892\n",
       "  0.0\n",
       "  0.0\n",
       "  0.6123724356957946\n",
       "  0.6123724356957946\n",
       "  0.0\n",
       "  ⋮\n",
       " -0.6123724356957946\n",
       " -0.6123724356957946\n",
       " -0.6123724356957946\n",
       "  0.0\n",
       "  0.0\n",
       "  0.0\n",
       " -0.6123724356957946\n",
       "  0.0\n",
       "  0.6123724356957946\n",
       "  0.6123724356957946\n",
       " -0.6123724356957946\n",
       "  0.0"
      ]
     },
     "execution_count": 81,
     "metadata": {},
     "output_type": "execute_result"
    }
   ],
   "source": [
    "ysim_tauchen"
   ]
  },
  {
   "cell_type": "code",
   "execution_count": 82,
   "id": "b106b8e8-509a-4c17-898b-8352cabe4b12",
   "metadata": {},
   "outputs": [],
   "source": [
    "ysim_rouwenhorst = Range_rouwenhorst[X_rouwenhorst];"
   ]
  },
  {
   "cell_type": "code",
   "execution_count": 84,
   "id": "fe13cb52-f0a9-4f2f-b45d-0d1041a6db7e",
   "metadata": {},
   "outputs": [
    {
     "data": {
      "text/plain": [
       "1000-element Vector{Float64}:\n",
       "  0.0\n",
       "  0.7412493166611012\n",
       "  0.0\n",
       "  0.0\n",
       " -0.7412493166611012\n",
       " -0.7412493166611012\n",
       "  0.0\n",
       "  0.0\n",
       "  0.0\n",
       "  0.0\n",
       "  0.0\n",
       " -0.7412493166611012\n",
       "  0.0\n",
       "  ⋮\n",
       "  0.0\n",
       " -0.7412493166611012\n",
       " -0.7412493166611012\n",
       " -0.7412493166611012\n",
       "  0.7412493166611012\n",
       "  0.0\n",
       " -0.7412493166611012\n",
       " -0.7412493166611012\n",
       "  0.0\n",
       " -0.7412493166611012\n",
       "  0.0\n",
       "  0.0"
      ]
     },
     "execution_count": 84,
     "metadata": {},
     "output_type": "execute_result"
    }
   ],
   "source": [
    "ysim_rouwenhorst"
   ]
  },
  {
   "cell_type": "code",
   "execution_count": 91,
   "id": "06900825-8cf8-45d6-85cb-8fa009d75ad8",
   "metadata": {},
   "outputs": [
    {
     "name": "stdout",
     "output_type": "stream",
     "text": [
      "┌──────────┬────────────┬──────────┬─────────────────┬────────────┬───────────┬──────────┐\n",
      "│\u001b[1m   method \u001b[0m│\u001b[1m       mean \u001b[0m│\u001b[1m variance \u001b[0m│\u001b[1m autocorrelation \u001b[0m│\u001b[1m     median \u001b[0m│\u001b[1m       P10 \u001b[0m│\u001b[1m      P90 \u001b[0m│\n",
      "├──────────┼────────────┼──────────┼─────────────────┼────────────┼───────────┼──────────┤\n",
      "│ true AR1 │ -0.0246375 │ 0.175206 │        0.221481 │ -0.0260631 │ -0.575044 │ 0.509011 │\n",
      "│  tauchen │ 0.00367423 │ 0.200437 │        0.235892 │        0.0 │ -0.612372 │ 0.612372 │\n",
      "│   rouwen │    0.01779 │ 0.266983 │          0.3037 │        0.0 │ -0.741249 │ 0.741249 │\n",
      "└──────────┴────────────┴──────────┴─────────────────┴────────────┴───────────┴──────────┘\n"
     ]
    }
   ],
   "source": [
    "tab_out = [\"true AR1\" mean(y_ar1) var(y_ar1) autocor(y_ar1,[1]) quantile(y_ar1, [0.5 0.1 0.9]);\n",
    "           \"tauchen\" mean(ysim_tauchen) var(ysim_tauchen) autocor(ysim_tauchen,[1]) quantile(ysim_tauchen, [0.5 0.1 0.9]);\n",
    "           \"rouwen\" mean(ysim_rouwenhorst) var(ysim_rouwenhorst) autocor(ysim_rouwenhorst,[1]) quantile(ysim_rouwenhorst, [0.5 0.1 0.9])]\n",
    "header = [\"method\", \"mean\", \"variance\", \"autocorrelation\", \"median\", \"P10\", \"P90\"]\n",
    "pretty_table(tab_out; header)"
   ]
  },
  {
   "cell_type": "markdown",
   "id": "464cd298-ff78-4dca-8ec0-8c4756601fc0",
   "metadata": {},
   "source": [
    "We observe that the differences between the variances and the autocorrelations related to the two methods are not significat"
   ]
  },
  {
   "cell_type": "markdown",
   "id": "5d2df23d-4113-4f44-80ef-10cc990ddf58",
   "metadata": {},
   "source": [
    "#### Question 4\n",
    "Let's repeat the simulations for N = 10"
   ]
  },
  {
   "cell_type": "code",
   "execution_count": 93,
   "id": "9e6b3bcb-3bf9-4d4d-a81b-b434e81a1c7f",
   "metadata": {},
   "outputs": [
    {
     "data": {
      "text/plain": [
       "tauchen_n (generic function with 1 method)"
      ]
     },
     "execution_count": 93,
     "metadata": {},
     "output_type": "execute_result"
    }
   ],
   "source": [
    "function tauchen_n(N,ρ)\n",
    "  (Prob_tauchen, y_tauchen) = tauchen(N,ρ,0.4,3)\n",
    "   mc_tauchen = MarkovChain(Prob_tauchen)\n",
    "   x_tauchen = simulate_indices(mc_tauchen, 1000, init=ceil(Int, N/2)); # simulates generates a draw from a Markov process using  T method\n",
    "   ysim_t_N=y_tauchen[x_tauchen]\n",
    "return ysim_t_N\n",
    "end"
   ]
  },
  {
   "cell_type": "code",
   "execution_count": 95,
   "id": "e57616fb-1205-40df-bd4c-a8829af24672",
   "metadata": {},
   "outputs": [],
   "source": [
    "ysim_t_10=tauchen_n(10,0.2);"
   ]
  },
  {
   "cell_type": "code",
   "execution_count": 98,
   "id": "b68e234b-f258-42a2-9681-2e17b7069a7d",
   "metadata": {},
   "outputs": [
    {
     "data": {
      "text/plain": [
       "_rouwenhorst_n (generic function with 1 method)"
      ]
     },
     "execution_count": 98,
     "metadata": {},
     "output_type": "execute_result"
    }
   ],
   "source": [
    "function _rouwenhorst_n(N,ρ)\n",
    "  (y_rouwenhorst, Prob_rouwenhorst) = _rouwenhorst2(ρ, 0.4, N)\n",
    "  mc_rouwenhorst = MarkovChain(Prob_rouwenhorst)\n",
    "  x_rouwenhorst = simulate_indices(mc_rouwenhorst, 1000, init=ceil(Int, N/2)); # simulates generates a draw from a Markov process\n",
    "  ysim_r_N=y_rouwenhorst[x_rouwenhorst]\n",
    "return  ysim_r_N\n",
    "end"
   ]
  },
  {
   "cell_type": "code",
   "execution_count": 99,
   "id": "bb3862bd-073f-44a5-a395-8eedf7a851d2",
   "metadata": {},
   "outputs": [],
   "source": [
    "ysim_r_10=_rouwenhorst_n(10,0.2);"
   ]
  },
  {
   "cell_type": "code",
   "execution_count": 100,
   "id": "930f9d26-9dde-4d58-bc6f-6cce245311d4",
   "metadata": {},
   "outputs": [
    {
     "name": "stdout",
     "output_type": "stream",
     "text": [
      "┌──────────┬─────────────┬──────────┬─────────────────┬────────────┬───────────┬──────────┐\n",
      "│\u001b[1m   method \u001b[0m│\u001b[1m        mean \u001b[0m│\u001b[1m variance \u001b[0m│\u001b[1m autocorrelation \u001b[0m│\u001b[1m     median \u001b[0m│\u001b[1m       P10 \u001b[0m│\u001b[1m      P90 \u001b[0m│\n",
      "├──────────┼─────────────┼──────────┼─────────────────┼────────────┼───────────┼──────────┤\n",
      "│ true AR1 │  -0.0246375 │ 0.175206 │        0.221481 │ -0.0260631 │ -0.575044 │ 0.509011 │\n",
      "│  tauchen │ -0.00680414 │ 0.160262 │        0.211971 │  -0.136083 │ -0.408248 │ 0.408248 │\n",
      "│   rouwen │  0.00244949 │ 0.180026 │        0.180875 │   0.136083 │ -0.435465 │ 0.408248 │\n",
      "└──────────┴─────────────┴──────────┴─────────────────┴────────────┴───────────┴──────────┘\n"
     ]
    }
   ],
   "source": [
    "tab_out = [\"true AR1\" mean(y_ar1) var(y_ar1) autocor(y_ar1,[1]) quantile(y_ar1, [0.5 0.1 0.9]);\n",
    "           \"tauchen\" mean(ysim_t_10) var(ysim_t_10) autocor(ysim_t_10,[1]) quantile(ysim_t_10, [0.5 0.1 0.9]);\n",
    "           \"rouwen\" mean(ysim_r_10) var(ysim_r_10) autocor(ysim_r_10,[1]) quantile(ysim_r_10, [0.5 0.1 0.9])]\n",
    "header = [\"method\", \"mean\", \"variance\", \"autocorrelation\", \"median\", \"P10\", \"P90\"]\n",
    "pretty_table(tab_out; header)"
   ]
  },
  {
   "cell_type": "markdown",
   "id": "f51004f8-7534-4156-8104-830300337766",
   "metadata": {},
   "source": [
    "We can observe that the statistical figures produced by both methods are improved and are pretty closer to each other."
   ]
  },
  {
   "cell_type": "markdown",
   "id": "5c2b6429-a35c-411b-81ea-b78ad40e3aec",
   "metadata": {},
   "source": [
    "#### Question 5\n",
    "Let's do simulations for both values of N when  ρ = 0.7,  ρ = 0.9, and  ρ = 0.98  "
   ]
  },
  {
   "cell_type": "code",
   "execution_count": 106,
   "id": "5a5d25c4-bd7a-4df6-af88-21b1db6a50ef",
   "metadata": {},
   "outputs": [
    {
     "name": "stdout",
     "output_type": "stream",
     "text": [
      "ρ = 0.7\n",
      "┌──────────┬────┬─────────────┬──────────┬─────────────────┬────────────┬───────────┬──────────┐\n",
      "│\u001b[1m   method \u001b[0m│\u001b[1m  N \u001b[0m│\u001b[1m        mean \u001b[0m│\u001b[1m variance \u001b[0m│\u001b[1m autocorrelation \u001b[0m│\u001b[1m     median \u001b[0m│\u001b[1m       P10 \u001b[0m│\u001b[1m      P90 \u001b[0m│\n",
      "├──────────┼────┼─────────────┼──────────┼─────────────────┼────────────┼───────────┼──────────┤\n",
      "│ true AR1 │  0 │  -0.0116462 │ 0.300276 │        0.679913 │ -0.0158623 │ -0.685919 │ 0.699168 │\n",
      "│  Tauchen │  3 │  0.00336067 │ 0.344804 │        0.770484 │        0.0 │       0.0 │      0.0 │\n",
      "│   rouwen │  3 │   0.0110897 │ 0.291306 │        0.698148 │        0.0 │ -0.792118 │ 0.792118 │\n",
      "│  tauchen │ 10 │   0.0642262 │ 0.311585 │        0.672504 │   0.186704 │ -0.560112 │  0.93352 │\n",
      "│   rouwen │ 10 │ -0.00149363 │ 0.330507 │        0.688448 │  -0.186704 │  -0.93352 │  0.93352 │\n",
      "└──────────┴────┴─────────────┴──────────┴─────────────────┴────────────┴───────────┴──────────┘\n",
      "ρ = 0.9\n",
      "┌──────────┬────┬────────────┬──────────┬─────────────────┬───────────┬──────────┬──────────┐\n",
      "│\u001b[1m   method \u001b[0m│\u001b[1m  N \u001b[0m│\u001b[1m       mean \u001b[0m│\u001b[1m variance \u001b[0m│\u001b[1m autocorrelation \u001b[0m│\u001b[1m    median \u001b[0m│\u001b[1m      P10 \u001b[0m│\u001b[1m      P90 \u001b[0m│\n",
      "├──────────┼────┼────────────┼──────────┼─────────────────┼───────────┼──────────┼──────────┤\n",
      "│ true AR1 │  0 │   0.211998 │ 0.847781 │        0.897069 │  0.285327 │ -1.09234 │  1.36722 │\n",
      "│  Tauchen │  3 │  -0.702012 │  1.44125 │        0.995736 │       0.0 │ -2.75299 │      0.0 │\n",
      "│   rouwen │  3 │  -0.138862 │  0.80173 │        0.909554 │       0.0 │ -1.29777 │  1.29777 │\n",
      "│  tauchen │ 10 │ -0.0452714 │ 0.845392 │        0.878625 │ -0.305888 │ -1.52944 │ 0.917663 │\n",
      "│   rouwen │ 10 │  -0.035483 │  0.96532 │        0.917601 │  0.305888 │ -1.52944 │ 0.917663 │\n",
      "└──────────┴────┴────────────┴──────────┴─────────────────┴───────────┴──────────┴──────────┘\n",
      "ρ = 0.98\n",
      "┌──────────┬────┬───────────┬──────────┬─────────────────┬───────────┬──────────┬─────────┐\n",
      "│\u001b[1m   method \u001b[0m│\u001b[1m  N \u001b[0m│\u001b[1m      mean \u001b[0m│\u001b[1m variance \u001b[0m│\u001b[1m autocorrelation \u001b[0m│\u001b[1m    median \u001b[0m│\u001b[1m      P10 \u001b[0m│\u001b[1m     P90 \u001b[0m│\n",
      "├──────────┼────┼───────────┼──────────┼─────────────────┼───────────┼──────────┼─────────┤\n",
      "│ true AR1 │  0 │ -0.150328 │   3.2626 │        0.975622 │ -0.283443 │ -2.51363 │ 2.37532 │\n",
      "│  Tauchen │  3 │       0.0 │      0.0 │             NaN │       0.0 │      0.0 │     0.0 │\n",
      "│   rouwen │  3 │  0.378076 │  2.63141 │         0.97228 │       0.0 │ -2.84268 │ 2.84268 │\n",
      "│  tauchen │ 10 │  0.317592 │  10.2456 │        0.992361 │  0.670025 │ -3.35013 │ 4.69018 │\n",
      "│   rouwen │ 10 │ -0.396655 │  3.36208 │        0.974849 │ -0.670025 │ -2.01008 │ 2.01008 │\n",
      "└──────────┴────┴───────────┴──────────┴─────────────────┴───────────┴──────────┴─────────┘\n"
     ]
    }
   ],
   "source": [
    "for ρ in [0.7, 0.9, 0.98]\n",
    "    \n",
    "    ysim_t_3 = tauchen_n(3,ρ);\n",
    "    ysim_r_3 = _rouwenhorst_n(3,ρ);\n",
    "    yar1 = ar1(ρ, 1000, 0.4);\n",
    "    ysim_t_10 = tauchen_n(10,ρ);\n",
    "    ysim_r_10 = _rouwenhorst_n(10,ρ);\n",
    "    println(\"ρ = $ρ\")\n",
    "    tab_out = [\"true AR1\" 0 mean(yar1) var(yar1) autocor(yar1,[1]) quantile(yar1, [0.5 0.1 0.9]);\n",
    "           \"Tauchen\" 3 mean(ysim_t_3) var(ysim_t_3) autocor(ysim_t_3,[1]) quantile(ysim_t_3, [0.5 0.1 0.9]);\n",
    "           \"rouwen\" 3 mean(ysim_r_3) var(ysim_r_3) autocor(ysim_r_3,[1]) quantile(ysim_r_3, [0.5 0.1 0.9]);\n",
    "           \"tauchen\" 10 mean(ysim_t_10) var(ysim_t_10) autocor(ysim_t_10,[1]) quantile(ysim_t_10, [0.5 0.1 0.9]);\n",
    "           \"rouwen\" 10 mean(ysim_r_10) var(ysim_r_10) autocor(ysim_r_10,[1]) quantile(ysim_r_10, [0.5 0.1 0.9])]\n",
    "    header = [\"method\", \"N\", \"mean\", \"variance\", \"autocorrelation\", \"median\", \"P10\", \"P90\"]\n",
    "    pretty_table(tab_out; header)\n",
    "end"
   ]
  },
  {
   "cell_type": "code",
   "execution_count": null,
   "id": "fc0c026a-5e71-43f6-b36e-afc55ccd5ce2",
   "metadata": {},
   "outputs": [],
   "source": []
  }
 ],
 "metadata": {
  "kernelspec": {
   "display_name": "Julia 1.8.2",
   "language": "julia",
   "name": "julia-1.8"
  },
  "language_info": {
   "file_extension": ".jl",
   "mimetype": "application/julia",
   "name": "julia",
   "version": "1.8.2"
  }
 },
 "nbformat": 4,
 "nbformat_minor": 5
}
