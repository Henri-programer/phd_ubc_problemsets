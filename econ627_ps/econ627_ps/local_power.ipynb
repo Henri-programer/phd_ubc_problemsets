{
 "cells": [
  {
   "attachments": {},
   "cell_type": "markdown",
   "metadata": {},
   "source": [
    "### Question 1\n",
    "\n",
    "In this question, we will use Monte Carlo (MC) simulations to simulate the power function π(λ,k), and compute the asymptotic power of the Wald test for different values of λ and k. Assume that α=0.05."
   ]
  },
  {
   "cell_type": "markdown",
   "metadata": {},
   "source": [
    "######  First Load in the necesary libraries"
   ]
  },
  {
   "cell_type": "code",
   "execution_count": 42,
   "metadata": {},
   "outputs": [],
   "source": [
    "using Plots, LaTeXStrings, Distributions\n"
   ]
  },
  {
   "cell_type": "markdown",
   "metadata": {},
   "source": [
    "<u> Part A </u>"
   ]
  },
  {
   "cell_type": "code",
   "execution_count": 43,
   "metadata": {},
   "outputs": [
    {
     "data": {
      "text/plain": [
       "power (generic function with 1 method)"
      ]
     },
     "execution_count": 43,
     "metadata": {},
     "output_type": "execute_result"
    }
   ],
   "source": [
    "function power(λ,k, R)\n",
    "    Z = randn(R,k)\n",
    "    X = (Z[:, 1].+ λ).^2 + sum(Z[:,2:k].^2, dims =2)\n",
    "    π = sum(X.> quantile(Chisq(k),0.95))/R\n",
    "    return π\n",
    "end"
   ]
  },
  {
   "cell_type": "code",
   "execution_count": 44,
   "metadata": {},
   "outputs": [
    {
     "data": {
      "text/plain": [
       "61×3 Matrix{Float64}:\n",
       " 0.05117  0.05005  0.05058\n",
       " 0.0513   0.05134  0.05076\n",
       " 0.05535  0.0517   0.05162\n",
       " 0.06146  0.05263  0.05216\n",
       " 0.06792  0.05671  0.05384\n",
       " 0.0792   0.06183  0.0579\n",
       " 0.09071  0.06705  0.06089\n",
       " 0.10585  0.07105  0.06488\n",
       " 0.126    0.07871  0.07097\n",
       " 0.14802  0.08825  0.07554\n",
       " 0.16912  0.09995  0.08248\n",
       " 0.19581  0.1096   0.09043\n",
       " 0.22208  0.12315  0.09825\n",
       " ⋮                 \n",
       " 0.99848  0.98016  0.94642\n",
       " 0.99883  0.98519  0.95533\n",
       " 0.99914  0.98846  0.96331\n",
       " 0.99931  0.99104  0.97023\n",
       " 0.99952  0.99265  0.97649\n",
       " 0.99966  0.99437  0.98031\n",
       " 0.99978  0.99586  0.98401\n",
       " 0.99989  0.99679  0.9881\n",
       " 0.99994  0.99749  0.99033\n",
       " 0.99993  0.99829  0.9926\n",
       " 0.99995  0.99874  0.9946\n",
       " 0.99997  0.9991   0.99587"
      ]
     },
     "execution_count": 44,
     "metadata": {},
     "output_type": "execute_result"
    }
   ],
   "source": [
    "K = [1,5,10]\n",
    "Λ = 0.0:0.1:6.0\n",
    "Powers = zeros(length(Λ), length(K))\n",
    "for i in 1 : length(Λ)\n",
    "    for j in 1: length(K)\n",
    "        Powers[i,j] = power(Λ[i], K[j], 10^5)\n",
    "    end\n",
    "end\n",
    "Powers"
   ]
  },
  {
   "attachments": {},
   "cell_type": "markdown",
   "metadata": {},
   "source": [
    "<u >Part B </u>\n",
    "\n",
    "What are the simulated probabilities of rejection when λ=0? Are the they close to what one would expect?"
   ]
  },
  {
   "cell_type": "code",
   "execution_count": 51,
   "metadata": {},
   "outputs": [
    {
     "data": {
      "text/plain": [
       "3-element Vector{Float64}:\n",
       " 0.04995\n",
       " 0.04975\n",
       " 0.04847"
      ]
     },
     "execution_count": 51,
     "metadata": {},
     "output_type": "execute_result"
    }
   ],
   "source": [
    "K = [1,5,10]\n",
    "Λ = 0.0\n",
    "Powers = zeros(3)\n",
    "for i in 1 : 3\n",
    "    Powers[i] = power(Λ, K[i], 10^5)\n",
    "end\n",
    "Powers"
   ]
  },
  {
   "cell_type": "code",
   "execution_count": 46,
   "metadata": {},
   "outputs": [
    {
     "data": {
      "text/plain": [
       "4×1 Matrix{Int64}:\n",
       " 18\n",
       " 34\n",
       " 32\n",
       " 25"
      ]
     },
     "execution_count": 46,
     "metadata": {},
     "output_type": "execute_result"
    }
   ],
   "source": [
    "A = [2 3 3;4 3 5;5 4 4; 3 -3 4]\n",
    "sum(A[:,2:3].^2, dims = 2)"
   ]
  },
  {
   "cell_type": "code",
   "execution_count": 47,
   "metadata": {},
   "outputs": [
    {
     "data": {
      "text/plain": [
       "3-element BitVector:\n",
       " 0\n",
       " 1\n",
       " 1"
      ]
     },
     "execution_count": 47,
     "metadata": {},
     "output_type": "execute_result"
    }
   ],
   "source": [
    "X = [1,2,5]\n",
    "X.>1.5"
   ]
  }
 ],
 "metadata": {
  "kernelspec": {
   "display_name": "Julia 1.8.2",
   "language": "julia",
   "name": "julia-1.8"
  },
  "language_info": {
   "file_extension": ".jl",
   "mimetype": "application/julia",
   "name": "julia",
   "version": "1.8.2"
  },
  "orig_nbformat": 4
 },
 "nbformat": 4,
 "nbformat_minor": 2
}
