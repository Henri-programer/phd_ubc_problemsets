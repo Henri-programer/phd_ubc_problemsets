{
 "cells": [
  {
   "attachments": {},
   "cell_type": "markdown",
   "metadata": {},
   "source": [
    "##### Monte Carlo simulations for 2sls and two-step efficient GMM"
   ]
  },
  {
   "attachments": {},
   "cell_type": "markdown",
   "metadata": {},
   "source": [
    "###### Generate n = 500 observations for $(Yi,Xi,Zi)$ from the following IV regressionmodel with heteroskedastic errors:"
   ]
  },
  {
   "cell_type": "code",
   "execution_count": 140,
   "metadata": {},
   "outputs": [],
   "source": [
    "# The libraries we need for this task\n",
    "using Distributions, PrettyTables, Random, Parameters, DataFrames\n",
    "using LinearAlgebra, Statistics"
   ]
  },
  {
   "cell_type": "code",
   "execution_count": 141,
   "metadata": {},
   "outputs": [
    {
     "data": {
      "text/plain": [
       "generate_sample (generic function with 1 method)"
      ]
     },
     "execution_count": 141,
     "metadata": {},
     "output_type": "execute_result"
    }
   ],
   "source": [
    "\n",
    "# This function generate data based on the model\n",
    "function  generate_sample(n,β,γ,Π,ρ)\n",
    "\n",
    "    # errors terms\n",
    "    Σ = [1.0 ρ;ρ 1.0]\n",
    "    mvnormal = MvNormal([0.0; 0.0], Σ)\n",
    "    error = rand(mvnormal,n)'\n",
    "    ϵ = error[:,1]\n",
    "    V = error[:,2]\n",
    "\n",
    "    # model variables\n",
    "    Z = randn(n,2)\n",
    "    U = exp.(Z*γ) .* ϵ\n",
    "    X = Z*Π + V\n",
    "    Y = β*X + U\n",
    "\n",
    "    return (Y = Y, X = X, Z = Z)\n",
    "\n",
    "end\n",
    "\n"
   ]
  },
  {
   "cell_type": "code",
   "execution_count": 142,
   "metadata": {},
   "outputs": [],
   "source": [
    "# Specify the parameters of the model\n",
    "β = 1.0\n",
    "γ = Π = [1.0, 1.0]\n",
    "ρ = 0.95\n",
    "\n",
    "@unpack Y, X, Z = generate_sample(5000,β,γ,Π,ρ);"
   ]
  },
  {
   "attachments": {},
   "cell_type": "markdown",
   "metadata": {},
   "source": [
    "###### Computation of $β^{2SLS}$, the 2SLS estimator of $β$, and its standard error."
   ]
  },
  {
   "cell_type": "code",
   "execution_count": 143,
   "metadata": {},
   "outputs": [
    {
     "data": {
      "text/plain": [
       "Ω (generic function with 1 method)"
      ]
     },
     "execution_count": 143,
     "metadata": {},
     "output_type": "execute_result"
    }
   ],
   "source": [
    "# This function compute an estimate of Ω.\n",
    "function Ω(U,Z)\n",
    "    n = length(Z)\n",
    "    ZU = Z.*U\n",
    "    return (ZU'*ZU)/n\n",
    "end"
   ]
  },
  {
   "cell_type": "code",
   "execution_count": 144,
   "metadata": {},
   "outputs": [
    {
     "data": {
      "text/plain": [
       "β₂ₛₗₛ (generic function with 1 method)"
      ]
     },
     "execution_count": 144,
     "metadata": {},
     "output_type": "execute_result"
    }
   ],
   "source": [
    "# This function compute an estimate of β2sls and its standart error\n",
    "function β₂ₛₗₛ(Y, X, Z)\n",
    "    n = length(Y)\n",
    "    # estimator \n",
    "    PZ = Z*(inv(Z'Z)*Z')\n",
    "    β2sls = inv(X'*PZ*X)*(X'*PZ*Y)\n",
    "\n",
    "    # standard error\n",
    "    Q = (X'Z)/n\n",
    "    A = inv((Z'Z)/n)\n",
    "    Ωₙ = Ω(Y-X*β2sls,Z)\n",
    "    Variance = (inv(Q*A*Q')*(Q*A*Ωₙ*A*Q'))*inv(Q*A*Q')\n",
    "    std_err_2sls = sqrt(Variance/n)\n",
    "    return(β2sls = β2sls, std_err_2sls = std_err_2sls)\n",
    "end\n"
   ]
  },
  {
   "cell_type": "code",
   "execution_count": 145,
   "metadata": {},
   "outputs": [
    {
     "data": {
      "text/plain": [
       "(β2sls = 0.9301127525532763, std_err_2sls = 0.1622953844746321)"
      ]
     },
     "execution_count": 145,
     "metadata": {},
     "output_type": "execute_result"
    }
   ],
   "source": [
    "@unpack β2sls, std_err_2sls = β₂ₛₗₛ(Y, X, Z)"
   ]
  },
  {
   "attachments": {},
   "cell_type": "markdown",
   "metadata": {},
   "source": [
    "###### Computation of $β^{GMM}$, the GMM estimator of $β$, and its standard error."
   ]
  },
  {
   "cell_type": "code",
   "execution_count": 146,
   "metadata": {},
   "outputs": [
    {
     "data": {
      "text/plain": [
       "βᵍᵐᵐ (generic function with 1 method)"
      ]
     },
     "execution_count": 146,
     "metadata": {},
     "output_type": "execute_result"
    }
   ],
   "source": [
    "# This function compute an estimate of βGMM and its standart error\n",
    "function βᵍᵐᵐ(Y, X, Z)\n",
    "    n = length(Y)\n",
    "\n",
    "    # estimator \n",
    "    Q = (X'Z)/n\n",
    "    P = (Z'Y)/n\n",
    "    Ωₙ = Ω(Y-X*β2sls,Z)\n",
    "    βgmm = inv((Q*inv(Ωₙ))*Q')*((Q*inv(Ωₙ))*P)\n",
    "\n",
    "    # standard error\n",
    "    Variance = inv((Q*inv(Ωₙ))*Q')\n",
    "    std_gmm = sqrt(Variance/n)\n",
    "    return(βgmm = βgmm, std_gmm = std_gmm)\n",
    "end\n"
   ]
  },
  {
   "cell_type": "code",
   "execution_count": 147,
   "metadata": {},
   "outputs": [
    {
     "data": {
      "text/plain": [
       "(βgmm = 0.9407598111416822, std_gmm = 0.16201463289659399)"
      ]
     },
     "execution_count": 147,
     "metadata": {},
     "output_type": "execute_result"
    }
   ],
   "source": [
    "@unpack βgmm, std_gmm = βᵍᵐᵐ(Y, X, Z)"
   ]
  },
  {
   "cell_type": "code",
   "execution_count": 148,
   "metadata": {},
   "outputs": [
    {
     "name": "stdout",
     "output_type": "stream",
     "text": [
      "A = [1 2; 0 3; 1 -1]\n",
      "u = [2, 4, -1]\n",
      "A .* u = [2 4; 0 12; -1 1]\n"
     ]
    },
    {
     "data": {
      "text/plain": [
       "3×2 Matrix{Int64}:\n",
       "  2   4\n",
       "  0  12\n",
       " -1   1"
      ]
     },
     "execution_count": 148,
     "metadata": {},
     "output_type": "execute_result"
    }
   ],
   "source": [
    "A = [1 2; 0 3; 1 -1]\n",
    "u = [2,4,-1]\n",
    "@show A\n",
    "@show u\n",
    "@show A.*u"
   ]
  }
 ],
 "metadata": {
  "kernelspec": {
   "display_name": "Julia 1.8.2",
   "language": "julia",
   "name": "julia-1.8"
  },
  "language_info": {
   "file_extension": ".jl",
   "mimetype": "application/julia",
   "name": "julia",
   "version": "1.8.2"
  },
  "orig_nbformat": 4
 },
 "nbformat": 4,
 "nbformat_minor": 2
}
