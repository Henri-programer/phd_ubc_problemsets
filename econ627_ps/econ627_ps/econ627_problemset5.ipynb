{
 "cells": [
  {
   "attachments": {},
   "cell_type": "markdown",
   "metadata": {},
   "source": [
    "#### Econ 627: Assignment 5\n",
    "\n",
    "##### <u> Question 2 </u>: Monte Carlo experiments with efficient instruments\n",
    "\n",
    "In this exercise, using Monte Carlo simulations you will compare the small-sample performances of IV estimators based on efficient instruments with that of the 2SLS estimator."
   ]
  },
  {
   "attachments": {},
   "cell_type": "markdown",
   "metadata": {},
   "source": [
    "######  Let us load the Libraries we need."
   ]
  },
  {
   "cell_type": "code",
   "execution_count": 419,
   "metadata": {},
   "outputs": [],
   "source": [
    "using Distributions, PrettyTables, Random, Parameters,DataFrames"
   ]
  },
  {
   "attachments": {},
   "cell_type": "markdown",
   "metadata": {},
   "source": [
    "a),  b) and c)"
   ]
  },
  {
   "cell_type": "code",
   "execution_count": 420,
   "metadata": {},
   "outputs": [
    {
     "data": {
      "text/plain": [
       "generate_data (generic function with 1 method)"
      ]
     },
     "execution_count": 420,
     "metadata": {},
     "output_type": "execute_result"
    }
   ],
   "source": [
    "function generate_data(ρ,β,n)\n",
    "      \n",
    "    # IVs\n",
    "    W = rand(Uniform(0,1), n)\n",
    "    Z = -0.5 .*(W .< 0.2) .- 0.1 .* (0.2 .<= W .< 0.4) .+ 0.1 .* (0.4 .<= W .< 0.6) .+ (W .≥ 0.6)\n",
    "\n",
    "    # errors\n",
    "    Σ =[1.0 ρ; ρ 1.0;]\n",
    "    mvnormal = MvNormal([0.0; 0.0], Σ)\n",
    "    error = rand(mvnormal,n)'\n",
    "    ϵ = error[:,1]\n",
    "    V = error[:,2]\n",
    "    U = (1 .+ Z).*ϵ\n",
    "\n",
    "    # endogenous regressors Xi\n",
    "    X = 4*Z.^2 + V\n",
    "    \n",
    "    # dependent variable Yi\n",
    "    Y = β.*X .+ U\n",
    "\n",
    "    return (Y = Y , X = X , Z = Z, U = U)\n",
    "\n",
    "end\n"
   ]
  },
  {
   "cell_type": "code",
   "execution_count": 421,
   "metadata": {},
   "outputs": [],
   "source": [
    "@unpack X, Y, Z, U = generate_data(0.9, 0.15, 100);"
   ]
  },
  {
   "attachments": {},
   "cell_type": "markdown",
   "metadata": {},
   "source": [
    "d) Computations of the three IV estimators:"
   ]
  },
  {
   "cell_type": "markdown",
   "metadata": {},
   "source": [
    "###### The 2SLS estimator using Zi as instruments."
   ]
  },
  {
   "cell_type": "code",
   "execution_count": 422,
   "metadata": {},
   "outputs": [
    {
     "data": {
      "text/plain": [
       "Ω (generic function with 1 method)"
      ]
     },
     "execution_count": 422,
     "metadata": {},
     "output_type": "execute_result"
    }
   ],
   "source": [
    "# Function for estimation of the assymptotic variance Ω\n",
    "function Ω(U,Z)\n",
    "    n=length(U)\n",
    "    zr = Z.*U\n",
    "    omega = (zr' * zr)/n\n",
    "     \n",
    "    return omega\n",
    "end"
   ]
  },
  {
   "cell_type": "code",
   "execution_count": 423,
   "metadata": {},
   "outputs": [
    {
     "data": {
      "text/plain": [
       "β₂ₛₗₛ (generic function with 2 methods)"
      ]
     },
     "execution_count": 423,
     "metadata": {},
     "output_type": "execute_result"
    }
   ],
   "source": [
    "function β₂ₛₗₛ(Y,X,Z)\n",
    "    \n",
    "   n = length(Y)\n",
    "   #Ωᵤ = Ω(U,Z) \n",
    "   Q = X'*Z/n\n",
    "   W = inv(Z'*Z/n)\n",
    "   PZ = Z*( (Z'*Z)\\Z' )\n",
    "   β = (X'*PZ*X)\\(X'*PZ*Y)                                    #inv(Q*W*Q')*Q*W*(Z'*Y)\n",
    "   Ωᵤ = Ω(Y-X*β,Z) \n",
    "   asy_var= ((Q'*W*Q)\\(Q'*W*Ωᵤ*W*Q)/(Q'*W*Q))/n\n",
    "   stderr = sqrt(asy_var)\n",
    "   \n",
    "   return β, stderr\n",
    "\n",
    "end"
   ]
  },
  {
   "cell_type": "code",
   "execution_count": 424,
   "metadata": {},
   "outputs": [
    {
     "data": {
      "text/plain": [
       "(0.08151880195811384, 0.08549805240959828)"
      ]
     },
     "execution_count": 424,
     "metadata": {},
     "output_type": "execute_result"
    }
   ],
   "source": [
    "βᵢᵥ, stderrᵢᵥ  = β₂ₛₗₛ(Y,X,Z)"
   ]
  },
  {
   "attachments": {},
   "cell_type": "markdown",
   "metadata": {},
   "source": [
    "###### The infeasible efficient IV estimator that uses g∗(Zi)"
   ]
  },
  {
   "cell_type": "code",
   "execution_count": 425,
   "metadata": {},
   "outputs": [
    {
     "data": {
      "text/plain": [
       "g (generic function with 1 method)"
      ]
     },
     "execution_count": 425,
     "metadata": {},
     "output_type": "execute_result"
    }
   ],
   "source": [
    "# Definition of the function g\n",
    " g(z) = mean(X .* (Z .== z)) / mean((Y-X*βᵢᵥ).^2 .* (Z .== z))"
   ]
  },
  {
   "cell_type": "code",
   "execution_count": 426,
   "metadata": {},
   "outputs": [
    {
     "data": {
      "text/plain": [
       "(0.14948661390596904, 0.0631568685499647)"
      ]
     },
     "execution_count": 426,
     "metadata": {},
     "output_type": "execute_result"
    }
   ],
   "source": [
    "β_infeasible, stderr_inf = β₂ₛₗₛ(Y,X,g.(Z))"
   ]
  },
  {
   "attachments": {},
   "cell_type": "markdown",
   "metadata": {},
   "source": [
    "###### The feasible version of the efficient IV estimator "
   ]
  },
  {
   "cell_type": "code",
   "execution_count": 427,
   "metadata": {},
   "outputs": [
    {
     "data": {
      "text/plain": [
       "βₒₗₛ (generic function with 1 method)"
      ]
     },
     "execution_count": 427,
     "metadata": {},
     "output_type": "execute_result"
    }
   ],
   "source": [
    "function βₒₗₛ(Y,X)\n",
    "     \n",
    "    Ω = inv(X'*X)\n",
    "    Q = X'*Y;\n",
    "    \n",
    "    return Ω*Q\n",
    "end"
   ]
  },
  {
   "cell_type": "code",
   "execution_count": 428,
   "metadata": {},
   "outputs": [
    {
     "data": {
      "text/plain": [
       "(0.15536572795816503, 0.06256193638504053)"
      ]
     },
     "execution_count": 428,
     "metadata": {},
     "output_type": "execute_result"
    }
   ],
   "source": [
    "D = [Z .== -0.5 Z .== -0.1 Z .== 0.1 Z .== 1 ]\n",
    "π = βₒₗₛ(X,D)\n",
    "πᵤ = βₒₗₛ(U.^2,D)\n",
    "\n",
    "G  = (D*π)./(D*πᵤ)\n",
    "β_feasible, stderr_fe = β₂ₛₗₛ(Y,X,G)"
   ]
  },
  {
   "cell_type": "markdown",
   "metadata": {},
   "source": [
    "e) Confidence intervals and associated asymptotic coverage probability 1 −α for different value of α"
   ]
  },
  {
   "cell_type": "code",
   "execution_count": 429,
   "metadata": {},
   "outputs": [
    {
     "name": "stdout",
     "output_type": "stream",
     "text": [
      "┌──────────────┬───────────┬──────────┬─────┬─────────┬──────────────┐\n",
      "│\u001b[1m              \u001b[0m│\u001b[1m     lower \u001b[0m│\u001b[1m    upper \u001b[0m│\u001b[1m   α \u001b[0m│\u001b[1m β in CI \u001b[0m│\u001b[1m lenght of CI \u001b[0m│\n",
      "├──────────────┼───────────┼──────────┼─────┼─────────┼──────────────┤\n",
      "│          βᵢᵥ │ -0.059113 │ 0.222151 │ 0.1 │    true │     0.281264 │\n",
      "│ β_infeasible │ 0.0456028 │  0.25337 │ 0.1 │    true │     0.207768 │\n",
      "│   β_feasible │ 0.0524605 │ 0.258271 │ 0.1 │    true │      0.20581 │\n",
      "└──────────────┴───────────┴──────────┴─────┴─────────┴──────────────┘\n",
      "┌──────────────┬────────────┬──────────┬──────┬─────────┬──────────────┐\n",
      "│\u001b[1m              \u001b[0m│\u001b[1m      lower \u001b[0m│\u001b[1m    upper \u001b[0m│\u001b[1m    α \u001b[0m│\u001b[1m β in CI \u001b[0m│\u001b[1m lenght of CI \u001b[0m│\n",
      "├──────────────┼────────────┼──────────┼──────┼─────────┼──────────────┤\n",
      "│          βᵢᵥ │ -0.0860543 │ 0.249092 │ 0.05 │    true │     0.335146 │\n",
      "│ β_infeasible │  0.0257014 │ 0.273272 │ 0.05 │    true │      0.24757 │\n",
      "│   β_feasible │  0.0327466 │ 0.277985 │ 0.05 │    true │     0.245238 │\n",
      "└──────────────┴────────────┴──────────┴──────┴─────────┴──────────────┘\n",
      "┌──────────────┬─────────────┬──────────┬──────┬─────────┬──────────────┐\n",
      "│\u001b[1m              \u001b[0m│\u001b[1m       lower \u001b[0m│\u001b[1m    upper \u001b[0m│\u001b[1m    α \u001b[0m│\u001b[1m β in CI \u001b[0m│\u001b[1m lenght of CI \u001b[0m│\n",
      "├──────────────┼─────────────┼──────────┼──────┼─────────┼──────────────┤\n",
      "│          βᵢᵥ │    -0.13871 │ 0.301747 │ 0.01 │    true │     0.440457 │\n",
      "│ β_infeasible │  -0.0131947 │ 0.312168 │ 0.01 │    true │     0.325363 │\n",
      "│   β_feasible │ -0.00578314 │ 0.316515 │ 0.01 │    true │     0.322298 │\n",
      "└──────────────┴─────────────┴──────────┴──────┴─────────┴──────────────┘\n"
     ]
    }
   ],
   "source": [
    "β = 0.15\n",
    "for α in [0.1, 0.05, 0.01]\n",
    "        lower_boundᵢᵥ = βᵢᵥ-quantile(Normal(0,1),1-α/2)*stderrᵢᵥ\n",
    "        upper_boundᵢᵥ = βᵢᵥ+quantile(Normal(0,1),1-α/2)*stderrᵢᵥ\n",
    "        lower_bound_inf = β_infeasible-quantile(Normal(0,1),1-α/2)*stderr_inf\n",
    "        upper_bound_inf = β_infeasible+quantile(Normal(0,1),1-α/2)*stderr_inf\n",
    "        lower_bound_fe = β_feasible-quantile(Normal(0,1),1-α/2)*stderr_fe\n",
    "        upper_bound_fe = β_feasible+quantile(Normal(0,1),1-α/2)*stderr_fe\n",
    "\n",
    "        table_data = [\"βᵢᵥ\" lower_boundᵢᵥ upper_boundᵢᵥ α lower_boundᵢᵥ<= β <= upper_boundᵢᵥ upper_boundᵢᵥ- lower_boundᵢᵥ;\n",
    "                \"β_infeasible\" lower_bound_inf upper_bound_inf  α lower_bound_inf<= β <= upper_bound_inf -lower_bound_inf+upper_bound_inf \n",
    "                \"β_feasible\" lower_bound_fe upper_bound_fe   α lower_bound_fe<= β <= upper_bound_fe -lower_bound_fe+upper_bound_fe\n",
    "        ]\n",
    "        header=[\" \",\"lower\",\"upper\", \"α\", \"β in CI\", \"lenght of CI\" ]\n",
    "        pretty_table(table_data;header)\n",
    "end"
   ]
  },
  {
   "attachments": {},
   "cell_type": "markdown",
   "metadata": {},
   "source": [
    "\n",
    "g) Repeat (a)-(f) 10,000 times. \n"
   ]
  },
  {
   "cell_type": "code",
   "execution_count": 430,
   "metadata": {},
   "outputs": [],
   "source": [
    "R=10^4\n",
    "CI_length = zeros(3,3)\n",
    "cov_prob = zeros(3,3)\n",
    "prob_zero_in_CI = zeros(3,3)\n",
    "levels =  [0.1, 0.05, 0.01]\n",
    "\n",
    "\n",
    "for r=1:R\n",
    "\n",
    "    @unpack X, Y, Z, U = generate_data(0.9, 0.15, 100);\n",
    "\n",
    "    βᵢᵥ, stderrᵢᵥ  = β₂ₛₗₛ(Y,X,Z)\n",
    "    β_infeasible, stderr_inf = β₂ₛₗₛ(Y,X,g.(Z))\n",
    "    \n",
    "    D = [Z .== -0.5 Z .== -0.1 Z .== 0.1 Z .== 1 ]\n",
    "    π = βₒₗₛ(X,D)\n",
    "    πᵤ = βₒₗₛ(U.^2,D)\n",
    "    G  = (D*π)./(D*πᵤ)\n",
    "    β_feasible, stderr_fe = β₂ₛₗₛ(Y,X,G)\n",
    "\n",
    "    β = 0.15\n",
    "    for i in 1:3\n",
    "        \n",
    "        α = levels[i]\n",
    "        lower_boundᵢᵥ = βᵢᵥ-quantile(Normal(0,1),1-α/2)*stderrᵢᵥ\n",
    "        upper_boundᵢᵥ = βᵢᵥ+quantile(Normal(0,1),1-α/2)*stderrᵢᵥ\n",
    "        lower_bound_inf = β_infeasible-quantile(Normal(0,1),1-α/2)*stderr_inf\n",
    "        upper_bound_inf = β_infeasible+quantile(Normal(0,1),1-α/2)*stderr_inf\n",
    "        lower_bound_fe = β_feasible-quantile(Normal(0,1),1-α/2)*stderr_fe\n",
    "        upper_bound_fe = β_feasible+quantile(Normal(0,1),1-α/2)*stderr_fe\n",
    "\n",
    "        CI_length[1,i] += upper_boundᵢᵥ-lower_boundᵢᵥ\n",
    "        CI_length[2,i] += upper_bound_inf-lower_bound_inf\n",
    "        CI_length[3,i] += -lower_bound_fe+upper_bound_fe\n",
    "\n",
    "        cov_prob[1,i] += (lower_boundᵢᵥ<= β <= upper_boundᵢᵥ)\n",
    "        cov_prob[2,i] += (lower_bound_inf <= β <= upper_bound_inf)\n",
    "        cov_prob[3,i] += (lower_bound_fe <= β <= upper_bound_fe)\n",
    "\n",
    "        prob_zero_in_CI[1,i] += (0 < lower_boundᵢᵥ || 0> upper_boundᵢᵥ)\n",
    "        prob_zero_in_CI[2,i] += (0 < lower_bound_inf || 0>upper_bound_inf)\n",
    "        prob_zero_in_CI[3,i] += (0 < lower_bound_fe || 0>upper_bound_fe)\n",
    "    end\n",
    "end  \n",
    "\n",
    "\n",
    "        \n"
   ]
  },
  {
   "cell_type": "code",
   "execution_count": 431,
   "metadata": {},
   "outputs": [
    {
     "name": "stdout",
     "output_type": "stream",
     "text": [
      "┌──────────────┬─────┬──────────────┬───────────────┬────────────────────┐\n",
      "│\u001b[1m    estimator \u001b[0m│\u001b[1m 1-α \u001b[0m│\u001b[1m lenght of CI \u001b[0m│\u001b[1m coverage prob \u001b[0m│\u001b[1m prob of signicance \u001b[0m│\n",
      "├──────────────┼─────┼──────────────┼───────────────┼────────────────────┤\n",
      "│          βᵢᵥ │ 0.9 │     0.277408 │        0.8879 │             0.5561 │\n",
      "│ β_infeasible │ 0.9 │     0.205115 │        0.8748 │             0.7646 │\n",
      "│   β_feasible │ 0.9 │     0.204345 │        0.8799 │             0.7847 │\n",
      "└──────────────┴─────┴──────────────┴───────────────┴────────────────────┘\n",
      "┌──────────────┬──────┬──────────────┬───────────────┬────────────────────┐\n",
      "│\u001b[1m    estimator \u001b[0m│\u001b[1m  1-α \u001b[0m│\u001b[1m lenght of CI \u001b[0m│\u001b[1m coverage prob \u001b[0m│\u001b[1m prob of signicance \u001b[0m│\n",
      "├──────────────┼──────┼──────────────┼───────────────┼────────────────────┤\n",
      "│          βᵢᵥ │ 0.95 │     0.330552 │        0.9402 │             0.4528 │\n",
      "│ β_infeasible │ 0.95 │      0.24441 │        0.9269 │             0.6809 │\n",
      "│   β_feasible │ 0.95 │     0.243492 │         0.931 │             0.7063 │\n",
      "└──────────────┴──────┴──────────────┴───────────────┴────────────────────┘\n",
      "┌──────────────┬──────┬──────────────┬───────────────┬────────────────────┐\n",
      "│\u001b[1m    estimator \u001b[0m│\u001b[1m  1-α \u001b[0m│\u001b[1m lenght of CI \u001b[0m│\u001b[1m coverage prob \u001b[0m│\u001b[1m prob of signicance \u001b[0m│\n",
      "├──────────────┼──────┼──────────────┼───────────────┼────────────────────┤\n",
      "│          βᵢᵥ │ 0.99 │      0.43442 │        0.9841 │             0.2673 │\n",
      "│ β_infeasible │ 0.99 │     0.321209 │        0.9748 │             0.4924 │\n",
      "│   β_feasible │ 0.99 │     0.320003 │        0.9772 │             0.5181 │\n",
      "└──────────────┴──────┴──────────────┴───────────────┴────────────────────┘\n"
     ]
    }
   ],
   "source": [
    "for i in 1:length(levels)\n",
    "        table_data = [\"βᵢᵥ\" 1-levels[i] CI_length[1,i]/R cov_prob[1,i]/R prob_zero_in_CI[1,i]/R;\n",
    "                \"β_infeasible\" 1-levels[i] CI_length[2,i]/R cov_prob[2,i]/R prob_zero_in_CI[2,i]/R;\n",
    "                \"β_feasible\" 1-levels[i] CI_length[3,i]/R cov_prob[3,i]/R prob_zero_in_CI[3,i]/R;\n",
    "                ]\n",
    "                header=[\"estimator\",\"1-α\",\"lenght of CI\",\"coverage prob\",\"prob of signicance\"]\n",
    "                pretty_table(table_data;header)\n",
    "end"
   ]
  },
  {
   "attachments": {},
   "cell_type": "markdown",
   "metadata": {},
   "source": [
    "h) Comment on whether the simulated coverage probabilities for each of the three\n",
    "methods are close to the nominal levels of 1 −α. Does the result of Question 1\n",
    "seem to hold in finite samples?\n",
    "\n",
    "##### We observe that for each of the three methods the simulated coverage probalities are pretty close to the corresponding nominal levels 1−α."
   ]
  },
  {
   "attachments": {},
   "cell_type": "markdown",
   "metadata": {},
   "source": [
    "i) \n",
    "##### The result shows that the infeseable estimator is the most powerful estimator since the lenght of the corresponding confidence interval is the smallest and the significance probabity is the greatest. Also, we observe slight discrepencies between the infeasible and feasible efficient IV methods in terms of the length and coverage probability.This is due to fact the estimation of the feasible estimator involved estimates of the conditional expections rather than their exact values."
   ]
  },
  {
   "attachments": {},
   "cell_type": "markdown",
   "metadata": {},
   "source": [
    "j) Repeat the Monte Carlo experiment (as described in parts (a)-(g)) using the\n",
    "sample size n = 400. Organize your results again in a table as in part (g).\n",
    "Compare with the results for n = 100 and comment on the differences."
   ]
  },
  {
   "cell_type": "code",
   "execution_count": 432,
   "metadata": {},
   "outputs": [
    {
     "data": {
      "text/plain": [
       "3-element Vector{Float64}:\n",
       " 0.1\n",
       " 0.05\n",
       " 0.01"
      ]
     },
     "execution_count": 432,
     "metadata": {},
     "output_type": "execute_result"
    }
   ],
   "source": [
    "R=10^4\n",
    "CI_length = zeros(3,3)\n",
    "cov_prob = zeros(3,3)\n",
    "prob_zero_in_CI = zeros(3,3)\n",
    "levels =  [0.1, 0.05, 0.01]"
   ]
  },
  {
   "cell_type": "code",
   "execution_count": 433,
   "metadata": {},
   "outputs": [
    {
     "name": "stdout",
     "output_type": "stream",
     "text": [
      "┌──────────────┬─────┬──────────────┬───────────────┬────────────────────┐\n",
      "│\u001b[1m    estimator \u001b[0m│\u001b[1m 1-α \u001b[0m│\u001b[1m lenght of CI \u001b[0m│\u001b[1m coverage prob \u001b[0m│\u001b[1m prob of signicance \u001b[0m│\n",
      "├──────────────┼─────┼──────────────┼───────────────┼────────────────────┤\n",
      "│          βᵢᵥ │ 0.9 │     0.139173 │        0.8909 │              0.955 │\n",
      "│ β_infeasible │ 0.9 │     0.105112 │        0.8842 │             0.9951 │\n",
      "│   β_feasible │ 0.9 │     0.105028 │        0.8857 │              0.996 │\n",
      "└──────────────┴─────┴──────────────┴───────────────┴────────────────────┘\n",
      "┌──────────────┬──────┬──────────────┬───────────────┬────────────────────┐\n",
      "│\u001b[1m    estimator \u001b[0m│\u001b[1m  1-α \u001b[0m│\u001b[1m lenght of CI \u001b[0m│\u001b[1m coverage prob \u001b[0m│\u001b[1m prob of signicance \u001b[0m│\n",
      "├──────────────┼──────┼──────────────┼───────────────┼────────────────────┤\n",
      "│          βᵢᵥ │ 0.95 │     0.165835 │        0.9409 │             0.9236 │\n",
      "│ β_infeasible │ 0.95 │     0.125249 │        0.9393 │             0.9891 │\n",
      "│   β_feasible │ 0.95 │     0.125149 │        0.9405 │             0.9901 │\n",
      "└──────────────┴──────┴──────────────┴───────────────┴────────────────────┘\n",
      "┌──────────────┬──────┬──────────────┬───────────────┬────────────────────┐\n",
      "│\u001b[1m    estimator \u001b[0m│\u001b[1m  1-α \u001b[0m│\u001b[1m lenght of CI \u001b[0m│\u001b[1m coverage prob \u001b[0m│\u001b[1m prob of signicance \u001b[0m│\n",
      "├──────────────┼──────┼──────────────┼───────────────┼────────────────────┤\n",
      "│          βᵢᵥ │ 0.99 │     0.217944 │        0.9875 │              0.803 │\n",
      "│ β_infeasible │ 0.99 │     0.164605 │        0.9835 │             0.9618 │\n",
      "│   β_feasible │ 0.99 │     0.164474 │        0.9832 │             0.9647 │\n",
      "└──────────────┴──────┴──────────────┴───────────────┴────────────────────┘\n"
     ]
    }
   ],
   "source": [
    "for r=1:R\n",
    "\n",
    "    @unpack X, Y, Z, U = generate_data(0.9, 0.15, 400);\n",
    "\n",
    "    βᵢᵥ, stderrᵢᵥ  = β₂ₛₗₛ(Y,X,Z)\n",
    "    β_infeasible, stderr_inf = β₂ₛₗₛ(Y,X,g.(Z))\n",
    "    \n",
    "    D = [Z .== -0.5 Z .== -0.1 Z .== 0.1 Z .== 1 ]\n",
    "    π = βₒₗₛ(X,D)\n",
    "    πᵤ = βₒₗₛ(U.^2,D)\n",
    "    G  = (D*π)./(D*πᵤ)\n",
    "    β_feasible, stderr_fe = β₂ₛₗₛ(Y,X,G)\n",
    "\n",
    "    β = 0.15\n",
    "    for i in 1:3\n",
    "        \n",
    "        α = levels[i]\n",
    "        lower_boundᵢᵥ = βᵢᵥ-quantile(Normal(0,1),1-α/2)*stderrᵢᵥ\n",
    "        upper_boundᵢᵥ = βᵢᵥ+quantile(Normal(0,1),1-α/2)*stderrᵢᵥ\n",
    "        lower_bound_inf = β_infeasible-quantile(Normal(0,1),1-α/2)*stderr_inf\n",
    "        upper_bound_inf = β_infeasible+quantile(Normal(0,1),1-α/2)*stderr_inf\n",
    "        lower_bound_fe = β_feasible-quantile(Normal(0,1),1-α/2)*stderr_fe\n",
    "        upper_bound_fe = β_feasible+quantile(Normal(0,1),1-α/2)*stderr_fe\n",
    "\n",
    "        \n",
    "        CI_length[1,i] += upper_boundᵢᵥ-lower_boundᵢᵥ\n",
    "        CI_length[2,i] += upper_bound_inf-lower_bound_inf\n",
    "        CI_length[3,i] += -lower_bound_fe+upper_bound_fe\n",
    "\n",
    "        cov_prob[1,i] += (lower_boundᵢᵥ<= β <= upper_boundᵢᵥ)\n",
    "        cov_prob[2,i] += (lower_bound_inf <= β <= upper_bound_inf)\n",
    "        cov_prob[3,i] += (lower_bound_fe <= β <= upper_bound_fe)\n",
    "\n",
    "        prob_zero_in_CI[1,i] += (0 < lower_boundᵢᵥ || 0> upper_boundᵢᵥ)\n",
    "        prob_zero_in_CI[2,i] += (0 < lower_bound_inf || 0>upper_bound_inf)\n",
    "        prob_zero_in_CI[3,i] += (0 < lower_bound_fe || 0>upper_bound_fe)\n",
    "    end\n",
    "end  \n",
    "\n",
    "for i in 1:length(levels)\n",
    "    table_data = [\"βᵢᵥ\" 1-levels[i] CI_length[1,i]/R cov_prob[1,i]/R prob_zero_in_CI[1,i]/R;\n",
    "            \"β_infeasible\" 1-levels[i] CI_length[2,i]/R cov_prob[2,i]/R prob_zero_in_CI[2,i]/R;\n",
    "            \"β_feasible\" 1-levels[i] CI_length[3,i]/R cov_prob[3,i]/R prob_zero_in_CI[3,i]/R;\n",
    "            ]\n",
    "            header=[\"estimator\",\"1-α\",\"lenght of CI\",\"coverage prob\",\"prob of signicance\"]\n",
    "            pretty_table(table_data;header)\n",
    "end\n"
   ]
  },
  {
   "attachments": {},
   "cell_type": "markdown",
   "metadata": {},
   "source": [
    "##### We see that when the sample size becomes large, the confident interval shrinks, The probability of significance increases,  and the infeasible estimator remains the most powerful with the smallest CI."
   ]
  }
 ],
 "metadata": {
  "kernelspec": {
   "display_name": "Julia 1.8.2",
   "language": "julia",
   "name": "julia-1.8"
  },
  "language_info": {
   "file_extension": ".jl",
   "mimetype": "application/julia",
   "name": "julia",
   "version": "1.8.2"
  },
  "orig_nbformat": 4
 },
 "nbformat": 4,
 "nbformat_minor": 2
}
