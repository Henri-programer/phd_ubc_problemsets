{
 "cells": [
  {
   "attachments": {},
   "cell_type": "markdown",
   "metadata": {},
   "source": [
    "#### Econ 627: Assignment 4\n",
    "\n",
    "##### <u> Question 1 </u>: 2SLS Bias due to Many IVs\n",
    "\n",
    "In this question, you will use MC simulations to investigate the bias of the 2SLS estimator due to many IVs"
   ]
  },
  {
   "attachments": {},
   "cell_type": "markdown",
   "metadata": {},
   "source": [
    "<u> Part A </u>"
   ]
  },
  {
   "attachments": {},
   "cell_type": "markdown",
   "metadata": {},
   "source": [
    "###### Let's load the necessary libraries "
   ]
  },
  {
   "cell_type": "code",
   "execution_count": 1,
   "metadata": {},
   "outputs": [],
   "source": [
    "using Distributions, PrettyTables, Random, Parameters,DataFrames\n"
   ]
  },
  {
   "cell_type": "code",
   "execution_count": 3,
   "metadata": {},
   "outputs": [
    {
     "data": {
      "text/plain": [
       "DGP (generic function with 1 method)"
      ]
     },
     "execution_count": 3,
     "metadata": {},
     "output_type": "execute_result"
    }
   ],
   "source": [
    "function DGP(n,k₂)\n",
    "\n",
    "    # The regression coefficients\n",
    "    λ  = 0.5\n",
    "    β₁ = 1\n",
    "    β₂ = ones(k₂,1)\n",
    "    π₁ = 1\n",
    "    π₂ = ones(k₂,1)\n",
    "\n",
    "   \n",
    "    ϵ = randn(n,1)       # This produces a n x 1 matrix of numbers independentlly  drawn from a normal distribution\n",
    "    V = randn(n,1)\n",
    "    \n",
    "    Z₁ = randn(n,1)      # Zᵢ  and Xᵢ₂ are independent standard normals\n",
    "    X₂ = randn(n,k₂)\n",
    "    \n",
    "    U = λ*V + ϵ\n",
    "    X₁ = π₁*Z₁ + X₂*π₂ + V\n",
    "    Y = β₁*X₁ + X₂*β₂ + U\n",
    "\n",
    "    return Y, X₁, X₂, Z₁\n",
    "    \n",
    "end\n"
   ]
  },
  {
   "attachments": {},
   "cell_type": "markdown",
   "metadata": {},
   "source": [
    "<u> Part B :</u> \n",
    "Simulation of the bias of the 2SLS estimator of β1 that uses $Z_{i,2}$ and  $X_{i,2}$ in the first stage."
   ]
  },
  {
   "attachments": {},
   "cell_type": "markdown",
   "metadata": {},
   "source": [
    "###### First, let us define a function that compute the 2SLS estimators\n"
   ]
  },
  {
   "cell_type": "code",
   "execution_count": 55,
   "metadata": {},
   "outputs": [
    {
     "data": {
      "text/plain": [
       "β₂ₛₗₛ (generic function with 1 method)"
      ]
     },
     "execution_count": 55,
     "metadata": {},
     "output_type": "execute_result"
    }
   ],
   "source": [
    "function β₂ₛₗₛ(Y,X,Z)\n",
    "    \n",
    "    Q = X'*Z;\n",
    "    B = inv(Z'*Z);\n",
    "    \n",
    "    return inv(Q*B*Q')*Q*B*(Z'*Y)\n",
    "end"
   ]
  },
  {
   "attachments": {},
   "cell_type": "markdown",
   "metadata": {},
   "source": [
    "###### Simulated bias of the 2SLS estimator with few IVs,  𝑛=30\n",
    " "
   ]
  },
  {
   "cell_type": "code",
   "execution_count": 6,
   "metadata": {},
   "outputs": [
    {
     "data": {
      "text/plain": [
       "-0.024317057362530203"
      ]
     },
     "execution_count": 6,
     "metadata": {},
     "output_type": "execute_result"
    }
   ],
   "source": [
    "β = zeros(10^5,1)\n",
    "Random.seed!(627);\n",
    "\n",
    "for r = 1:10^5\n",
    "    Y, X₁, X₂, Z₁ = DGP(30,2)\n",
    "    X = [X₁ X₂]\n",
    "    Z = [Z₁ X₂]\n",
    "    β[r] = β₂ₛₗₛ(Y,X,Z)[1]\n",
    "end\n",
    "biasᵢᵥ = mean(β)-1 "
   ]
  },
  {
   "attachments": {},
   "cell_type": "markdown",
   "metadata": {},
   "source": [
    "<u> Part C :</u> \n",
    "Simulation with many IVs."
   ]
  },
  {
   "cell_type": "code",
   "execution_count": 7,
   "metadata": {},
   "outputs": [
    {
     "data": {
      "text/plain": [
       "0.1611287131108996"
      ]
     },
     "execution_count": 7,
     "metadata": {},
     "output_type": "execute_result"
    }
   ],
   "source": [
    "β = zeros(10^5,1)\n",
    "\n",
    "Random.seed!(627);\n",
    "\n",
    "for r=1:10^5\n",
    "    Y, X₁, X₂, Z₁ = DGP(30,2)\n",
    "    X=[X₁ X₂]\n",
    "     \n",
    "    Z=[Z₁ Z₁.^2 Z₁.^3 X₂ X₂.^2 X₂.^3 ([Z₁ Z₁] .* X₂) ([Z₁ Z₁].^2 .* X₂) ([Z₁ Z₁] .* X₂.^2) Z₁.*X₂[:,1].*X₂[:,2]]\n",
    "    \n",
    "    β[r]= β₂ₛₗₛ(Y,X,Z)[1]\n",
    "end\n",
    "biasₘᵢᵥₛ = mean(β) - 1\n"
   ]
  },
  {
   "attachments": {},
   "cell_type": "markdown",
   "metadata": {},
   "source": [
    "<u> Part D :</u> \n",
    "\n",
    "###### We can see that the bias of the multiple IVs estimator is far greater than than that of IV estimator. This shows that the multiple IVs deteriorate the prediction power of the model.\n"
   ]
  },
  {
   "attachments": {},
   "cell_type": "markdown",
   "metadata": {},
   "source": [
    "<u> Part E:</u> \n",
    "\n",
    "Repeat Parts B-C with n=100,1000 and compare to the results in Parts B-C. Explain the differences.\n"
   ]
  },
  {
   "cell_type": "code",
   "execution_count": 8,
   "metadata": {},
   "outputs": [],
   "source": [
    "result = []\n",
    "i = 1\n",
    "for n in [100, 1000]\n",
    "    β = zeros(10^5,1)\n",
    "\n",
    "    for r = 1:10^5\n",
    "        Y, X₁, X₂, Z₁ = DGP(n,2)\n",
    "        X = [X₁ X₂]\n",
    "        Z = [Z₁ X₂]\n",
    "        β[r] = β₂ₛₗₛ(Y,X,Z)[1]\n",
    "    end\n",
    "    bias = mean(β)-1 \n",
    "    push!(result, bias)\n",
    "\n",
    "    for r=1:10^5\n",
    "        Y, X₁, X₂, Z₁ = DGP(n,2)\n",
    "        X=[X₁ X₂]\n",
    "        \n",
    "        Z=[Z₁ Z₁.^2 Z₁.^3 X₂ X₂.^2 X₂.^3 ([Z₁ Z₁] .* X₂) ([Z₁ Z₁].^2 .* X₂) ([Z₁ Z₁] .* X₂.^2) Z₁.*X₂[:,1].*X₂[:,2]]\n",
    "        \n",
    "        β[r]= β₂ₛₗₛ(Y,X,Z)[1]\n",
    "    end\n",
    "    bias = mean(β)-1 \n",
    "    push!(result, bias)\n",
    "end\n"
   ]
  },
  {
   "cell_type": "code",
   "execution_count": 10,
   "metadata": {},
   "outputs": [
    {
     "data": {
      "text/plain": [
       "4-element Vector{Any}:\n",
       " -0.005427747662165472\n",
       "  0.056043979939559785\n",
       " -0.0005786530844793525\n",
       "  0.0059551805196893515"
      ]
     },
     "execution_count": 10,
     "metadata": {},
     "output_type": "execute_result"
    }
   ],
   "source": [
    "result"
   ]
  },
  {
   "cell_type": "code",
   "execution_count": 13,
   "metadata": {},
   "outputs": [
    {
     "name": "stdout",
     "output_type": "stream",
     "text": [
      "┌───────────────────────┬─────────────┬──────────────┐\n",
      "│\u001b[1m                       \u001b[0m│\u001b[1m     n = 100 \u001b[0m│\u001b[1m     n = 1000 \u001b[0m│\n",
      "├───────────────────────┼─────────────┼──────────────┤\n",
      "│ Bias for multiple IVs │ -0.00542775 │ -0.000578653 │\n",
      "│          Bias for IVs │    0.056044 │   0.00595518 │\n",
      "└───────────────────────┴─────────────┴──────────────┘\n"
     ]
    }
   ],
   "source": [
    "table_data = [\"Bias for multiple IVs\" result[1] result[3];\n",
    "        \"Bias for IVs\" result[2] result[4];\n",
    "]\n",
    "header=[\" \",\" n = 100\",\"n = 1000\"]\n",
    "pretty_table(table_data;header)"
   ]
  },
  {
   "attachments": {},
   "cell_type": "markdown",
   "metadata": {},
   "source": [
    "###### We observe that the detriment effect of many IVs on the estimation of β₂ₛₗₛ gradually wear off as the number of IVs is relatively smaller than the sample size. So, the model behaves as if we had fewer IVs."
   ]
  },
  {
   "attachments": {},
   "cell_type": "markdown",
   "metadata": {},
   "source": [
    "#### <u> Question 2 </u>: Non-centrality parameter calculations\n",
    "In this question, you will use numerical methods to compute the $\\chi^2_1$ non-centrality parameter corresponding to 80% power."
   ]
  },
  {
   "attachments": {},
   "cell_type": "markdown",
   "metadata": {},
   "source": [
    "<u> Part A :</u> \n",
    "\n",
    "Define a custom Julia function that for given c>0 and α∈(0,1) numerically computes the probability of rejection for \n",
    "the non-central $\\chi^2_1$ distribution with the non-centrality parameter c>0."
   ]
  },
  {
   "cell_type": "code",
   "execution_count": 15,
   "metadata": {},
   "outputs": [],
   "source": [
    "using Distributions, QuadGK"
   ]
  },
  {
   "cell_type": "code",
   "execution_count": 36,
   "metadata": {},
   "outputs": [
    {
     "data": {
      "text/plain": [
       "power1 (generic function with 1 method)"
      ]
     },
     "execution_count": 36,
     "metadata": {},
     "output_type": "execute_result"
    }
   ],
   "source": [
    "function power1(c,α)\n",
    "\n",
    "    power = quadgk(z-> ((c +z)^2 > quantile(Chisq(1),1-α)) * pdf(Normal(0,1),z),-Inf,Inf,atol=1e-8)[1]\n",
    "    return power\n",
    "end\n"
   ]
  },
  {
   "cell_type": "code",
   "execution_count": 37,
   "metadata": {},
   "outputs": [
    {
     "data": {
      "text/plain": [
       "0.0735033553390831"
      ]
     },
     "execution_count": 37,
     "metadata": {},
     "output_type": "execute_result"
    }
   ],
   "source": [
    "power1(0.45, 0.05)"
   ]
  },
  {
   "attachments": {},
   "cell_type": "markdown",
   "metadata": {},
   "source": [
    "<u> Part B:</u> "
   ]
  },
  {
   "cell_type": "code",
   "execution_count": 41,
   "metadata": {},
   "outputs": [
    {
     "data": {
      "text/plain": [
       "power2 (generic function with 1 method)"
      ]
     },
     "execution_count": 41,
     "metadata": {},
     "output_type": "execute_result"
    }
   ],
   "source": [
    "function power2(c,α)\n",
    "\n",
    "    dist = NoncentralChisq(1, c^2)\n",
    "    power = 1 - cdf(dist, quantile(Chisq(1),1-α))\n",
    "    return power\n",
    "end"
   ]
  },
  {
   "attachments": {},
   "cell_type": "markdown",
   "metadata": {},
   "source": [
    "<u> Part C:</u> \n",
    "\n",
    "The non-centrality parameter corresponding to the power π = 0.8 and α =0.05.\n",
    "\n"
   ]
  },
  {
   "cell_type": "code",
   "execution_count": 54,
   "metadata": {},
   "outputs": [
    {
     "data": {
      "text/plain": [
       "2.801581786928864"
      ]
     },
     "execution_count": 54,
     "metadata": {},
     "output_type": "execute_result"
    }
   ],
   "source": [
    "using Roots\n",
    "\n",
    "find_zero(c->power2(c,0.05)-0.8, (0,3), atol=1e-10)"
   ]
  },
  {
   "attachments": {},
   "cell_type": "markdown",
   "metadata": {},
   "source": [
    "#### <u> Question 3 </u>: Minimum Detectable Effects (MDEs)"
   ]
  },
  {
   "cell_type": "markdown",
   "metadata": {},
   "source": [
    "<u> Part A: </u> "
   ]
  },
  {
   "cell_type": "code",
   "execution_count": 27,
   "metadata": {},
   "outputs": [
    {
     "name": "stdout",
     "output_type": "stream",
     "text": [
      "search: \u001b[0m\u001b[1mN\u001b[22m\u001b[0m\u001b[1mo\u001b[22m\u001b[0m\u001b[1mn\u001b[22m\u001b[0m\u001b[1mc\u001b[22m\u001b[0m\u001b[1me\u001b[22m\u001b[0m\u001b[1mn\u001b[22m\u001b[0m\u001b[1mt\u001b[22m\u001b[0m\u001b[1mr\u001b[22m\u001b[0m\u001b[1ma\u001b[22m\u001b[0m\u001b[1ml\u001b[22m\u001b[0m\u001b[1mC\u001b[22m\u001b[0m\u001b[1mh\u001b[22m\u001b[0m\u001b[1mi\u001b[22m\u001b[0m\u001b[1ms\u001b[22m\u001b[0m\u001b[1mq\u001b[22m \u001b[0m\u001b[1mN\u001b[22m\u001b[0m\u001b[1mo\u001b[22m\u001b[0m\u001b[1mn\u001b[22m\u001b[0m\u001b[1mc\u001b[22m\u001b[0m\u001b[1me\u001b[22m\u001b[0m\u001b[1mn\u001b[22m\u001b[0m\u001b[1mt\u001b[22m\u001b[0m\u001b[1mr\u001b[22m\u001b[0m\u001b[1ma\u001b[22m\u001b[0m\u001b[1ml\u001b[22mHypergeometri\u001b[0m\u001b[1mc\u001b[22m Fisher\u001b[0m\u001b[1mN\u001b[22m\u001b[0m\u001b[1mo\u001b[22m\u001b[0m\u001b[1mn\u001b[22m\u001b[0m\u001b[1mc\u001b[22m\u001b[0m\u001b[1me\u001b[22m\u001b[0m\u001b[1mn\u001b[22m\u001b[0m\u001b[1mt\u001b[22m\u001b[0m\u001b[1mr\u001b[22m\u001b[0m\u001b[1ma\u001b[22m\u001b[0m\u001b[1ml\u001b[22mHypergeometri\u001b[0m\u001b[1mc\u001b[22m\n",
      "\n"
     ]
    },
    {
     "data": {
      "text/latex": [
       "\\begin{verbatim}\n",
       "NoncentralChisq(ν, λ)\n",
       "\\end{verbatim}\n",
       "The \\emph{noncentral chi-squared distribution} with \\texttt{ν} degrees of freedom and noncentrality parameter \\texttt{λ} has the probability density function\n",
       "\n",
       "$$f(x; \\nu, \\lambda) = \\frac{1}{2} e^{-(x + \\lambda)/2} \\left( \\frac{x}{\\lambda} \\right)^{\\nu/4-1/2} I_{\\nu/2-1}(\\sqrt{\\lambda x}), \\quad x > 0$$\n",
       "It is the distribution of the sum of squares of \\texttt{ν} independent \\href{@ref}{\\texttt{Normal}} variates with individual means $\\mu_i$ and\n",
       "\n",
       "$$\\lambda = \\sum_{i=1}^\\nu \\mu_i^2$$\n",
       "\\begin{verbatim}\n",
       "NoncentralChisq(ν, λ)     # Noncentral chi-squared distribution with ν degrees of freedom and noncentrality parameter λ\n",
       "\n",
       "params(d)    # Get the parameters, i.e. (ν, λ)\n",
       "\\end{verbatim}\n",
       "External links\n",
       "\n",
       "\\begin{itemize}\n",
       "\\item \\href{https://en.wikipedia.org/wiki/Noncentral_chi-squared_distribution}{Noncentral chi-squared distribution on Wikipedia}\n",
       "\n",
       "\\end{itemize}\n"
      ],
      "text/markdown": [
       "```\n",
       "NoncentralChisq(ν, λ)\n",
       "```\n",
       "\n",
       "The *noncentral chi-squared distribution* with `ν` degrees of freedom and noncentrality parameter `λ` has the probability density function\n",
       "\n",
       "$$\n",
       "f(x; \\nu, \\lambda) = \\frac{1}{2} e^{-(x + \\lambda)/2} \\left( \\frac{x}{\\lambda} \\right)^{\\nu/4-1/2} I_{\\nu/2-1}(\\sqrt{\\lambda x}), \\quad x > 0\n",
       "$$\n",
       "\n",
       "It is the distribution of the sum of squares of `ν` independent [`Normal`](@ref) variates with individual means $\\mu_i$ and\n",
       "\n",
       "$$\n",
       "\\lambda = \\sum_{i=1}^\\nu \\mu_i^2\n",
       "$$\n",
       "\n",
       "```julia\n",
       "NoncentralChisq(ν, λ)     # Noncentral chi-squared distribution with ν degrees of freedom and noncentrality parameter λ\n",
       "\n",
       "params(d)    # Get the parameters, i.e. (ν, λ)\n",
       "```\n",
       "\n",
       "External links\n",
       "\n",
       "  * [Noncentral chi-squared distribution on Wikipedia](https://en.wikipedia.org/wiki/Noncentral_chi-squared_distribution)\n"
      ],
      "text/plain": [
       "\u001b[36m  NoncentralChisq(ν, λ)\u001b[39m\n",
       "\n",
       "  The \u001b[4mnoncentral chi-squared distribution\u001b[24m with \u001b[36mν\u001b[39m degrees of freedom and\n",
       "  noncentrality parameter \u001b[36mλ\u001b[39m has the probability density function\n",
       "\n",
       "\u001b[35m  f(x; \\nu, \\lambda) = \\frac{1}{2} e^{-(x + \\lambda)/2} \\left( \\frac{x}{\\lambda} \\right)^{\\nu/4-1/2} I_{\\nu/2-1}(\\sqrt{\\lambda x}), \\quad x > 0\u001b[39m\n",
       "\n",
       "  It is the distribution of the sum of squares of \u001b[36mν\u001b[39m independent \u001b[36mNormal\u001b[39m\n",
       "  variates with individual means \u001b[35m\\mu_i\u001b[39m and\n",
       "\n",
       "\u001b[35m  \\lambda = \\sum_{i=1}^\\nu \\mu_i^2\u001b[39m\n",
       "\n",
       "\u001b[36m  NoncentralChisq(ν, λ)     # Noncentral chi-squared distribution with ν degrees of freedom and noncentrality parameter λ\u001b[39m\n",
       "\u001b[36m  \u001b[39m\n",
       "\u001b[36m  params(d)    # Get the parameters, i.e. (ν, λ)\u001b[39m\n",
       "\n",
       "  External links\n",
       "\n",
       "    •  Noncentral chi-squared distribution on Wikipedia\n",
       "       (https://en.wikipedia.org/wiki/Noncentral_chi-squared_distribution)"
      ]
     },
     "execution_count": 27,
     "metadata": {},
     "output_type": "execute_result"
    }
   ],
   "source": []
  },
  {
   "cell_type": "code",
   "execution_count": 22,
   "metadata": {},
   "outputs": [
    {
     "data": {
      "text/plain": [
       "1.7724538509055159"
      ]
     },
     "execution_count": 22,
     "metadata": {},
     "output_type": "execute_result"
    }
   ],
   "source": [
    "sqrt(pi)"
   ]
  },
  {
   "cell_type": "code",
   "execution_count": 38,
   "metadata": {},
   "outputs": [
    {
     "name": "stdout",
     "output_type": "stream",
     "text": [
      "search: \u001b[0m\u001b[1mc\u001b[22m\u001b[0m\u001b[1md\u001b[22m\u001b[0m\u001b[1mf\u001b[22m log\u001b[0m\u001b[1mc\u001b[22m\u001b[0m\u001b[1md\u001b[22m\u001b[0m\u001b[1mf\u001b[22m \u001b[0m\u001b[1mc\u001b[22mc\u001b[0m\u001b[1md\u001b[22m\u001b[0m\u001b[1mf\u001b[22m invlog\u001b[0m\u001b[1mc\u001b[22m\u001b[0m\u001b[1md\u001b[22m\u001b[0m\u001b[1mf\u001b[22m log\u001b[0m\u001b[1mc\u001b[22mc\u001b[0m\u001b[1md\u001b[22m\u001b[0m\u001b[1mf\u001b[22m logdiff\u001b[0m\u001b[1mc\u001b[22m\u001b[0m\u001b[1md\u001b[22m\u001b[0m\u001b[1mf\u001b[22m invlog\u001b[0m\u001b[1mc\u001b[22mc\u001b[0m\u001b[1md\u001b[22m\u001b[0m\u001b[1mf\u001b[22m \u001b[0m\u001b[1mC\u001b[22mptr\u001b[0m\u001b[1md\u001b[22mi\u001b[0m\u001b[1mf\u001b[22mf_t\n",
      "\n"
     ]
    },
    {
     "data": {
      "text/latex": [
       "\\begin{verbatim}\n",
       "cdf(d::UnivariateDistribution, x::Real)\n",
       "\\end{verbatim}\n",
       "Evaluate the cumulative probability at \\texttt{x}.\n",
       "\n",
       "See also \\href{@ref}{\\texttt{ccdf}}, \\href{@ref}{\\texttt{logcdf}}, and \\href{@ref}{\\texttt{logccdf}}.\n",
       "\n",
       "\\rule{\\textwidth}{1pt}\n",
       "\\begin{verbatim}\n",
       "cdf(d::Skellam, t::Real)\n",
       "\\end{verbatim}\n",
       "Implementation based on SciPy: https://github.com/scipy/scipy/blob/v0.15.1/scipy/stats/\\emph{discrete}distns.py\n",
       "\n",
       "Refer to Eqn (5) in On an Extension of the Connexion Between Poisson and χ2 Distributions, N.L Johnson(1959) Vol 46, No 3/4, doi:10.2307/2333532 It relates the Skellam and Non-central chisquare PDFs, which is very similar to their CDFs computation as well.\n",
       "\n",
       "Computing cdf of the Skellam distribution.\n",
       "\n",
       "\\rule{\\textwidth}{1pt}\n",
       "\\begin{verbatim}\n",
       "cdf(d, x)\n",
       "\\end{verbatim}\n",
       "Calculates the CDF of the distribution. To determine the CDF, the incomplete gamma function is required. The CDF  of the Gamma distribution provides this, with the necessary 1/Γ(a) normalization.\n",
       "\n"
      ],
      "text/markdown": [
       "```\n",
       "cdf(d::UnivariateDistribution, x::Real)\n",
       "```\n",
       "\n",
       "Evaluate the cumulative probability at `x`.\n",
       "\n",
       "See also [`ccdf`](@ref), [`logcdf`](@ref), and [`logccdf`](@ref).\n",
       "\n",
       "---\n",
       "\n",
       "```\n",
       "cdf(d::Skellam, t::Real)\n",
       "```\n",
       "\n",
       "Implementation based on SciPy: https://github.com/scipy/scipy/blob/v0.15.1/scipy/stats/*discrete*distns.py\n",
       "\n",
       "Refer to Eqn (5) in On an Extension of the Connexion Between Poisson and χ2 Distributions, N.L Johnson(1959) Vol 46, No 3/4, doi:10.2307/2333532 It relates the Skellam and Non-central chisquare PDFs, which is very similar to their CDFs computation as well.\n",
       "\n",
       "Computing cdf of the Skellam distribution.\n",
       "\n",
       "---\n",
       "\n",
       "```\n",
       "cdf(d, x)\n",
       "```\n",
       "\n",
       "Calculates the CDF of the distribution. To determine the CDF, the incomplete gamma function is required. The CDF  of the Gamma distribution provides this, with the necessary 1/Γ(a) normalization.\n"
      ],
      "text/plain": [
       "\u001b[36m  cdf(d::UnivariateDistribution, x::Real)\u001b[39m\n",
       "\n",
       "  Evaluate the cumulative probability at \u001b[36mx\u001b[39m.\n",
       "\n",
       "  See also \u001b[36mccdf\u001b[39m, \u001b[36mlogcdf\u001b[39m, and \u001b[36mlogccdf\u001b[39m.\n",
       "\n",
       "  ────────────────────────────────────────────────────────────────────────────\n",
       "\n",
       "\u001b[36m  cdf(d::Skellam, t::Real)\u001b[39m\n",
       "\n",
       "  Implementation based on SciPy:\n",
       "  https://github.com/scipy/scipy/blob/v0.15.1/scipy/stats/\u001b[4mdiscrete\u001b[24mdistns.py\n",
       "\n",
       "  Refer to Eqn (5) in On an Extension of the Connexion Between Poisson and χ2\n",
       "  Distributions, N.L Johnson(1959) Vol 46, No 3/4, doi:10.2307/2333532 It\n",
       "  relates the Skellam and Non-central chisquare PDFs, which is very similar to\n",
       "  their CDFs computation as well.\n",
       "\n",
       "  Computing cdf of the Skellam distribution.\n",
       "\n",
       "  ────────────────────────────────────────────────────────────────────────────\n",
       "\n",
       "\u001b[36m  cdf(d, x)\u001b[39m\n",
       "\n",
       "  Calculates the CDF of the distribution. To determine the CDF, the incomplete\n",
       "  gamma function is required. The CDF of the Gamma distribution provides this,\n",
       "  with the necessary 1/Γ(a) normalization."
      ]
     },
     "execution_count": 38,
     "metadata": {},
     "output_type": "execute_result"
    }
   ],
   "source": []
  }
 ],
 "metadata": {
  "kernelspec": {
   "display_name": "Julia 1.8.2",
   "language": "julia",
   "name": "julia-1.8"
  },
  "language_info": {
   "file_extension": ".jl",
   "mimetype": "application/julia",
   "name": "julia",
   "version": "1.8.2"
  },
  "orig_nbformat": 4
 },
 "nbformat": 4,
 "nbformat_minor": 2
}
