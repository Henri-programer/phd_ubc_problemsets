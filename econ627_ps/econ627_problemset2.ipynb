{
 "cells": [
  {
   "cell_type": "markdown",
   "metadata": {},
   "source": [
    "<u> Question 2 </u>:  (Monte Carlo (MC) Simulations for 2SLS and two-step efficient GMM) When answering\n",
    "the questions below, use Markdown to structure your Jupyter notebook."
   ]
  },
  {
   "cell_type": "markdown",
   "metadata": {},
   "source": [
    "<u> Part a </u>:"
   ]
  },
  {
   "cell_type": "code",
   "execution_count": 1,
   "metadata": {},
   "outputs": [],
   "source": [
    "# The necessary libraries \n",
    "using Distributions, PrettyTables, Random\n",
    "using Parameters\n"
   ]
  },
  {
   "cell_type": "markdown",
   "metadata": {},
   "source": [
    "###### Initialize all the parameters needed"
   ]
  },
  {
   "cell_type": "code",
   "execution_count": 2,
   "metadata": {},
   "outputs": [],
   "source": [
    "n = 500\n",
    "const β = 1.0\n",
    "const Π = [1.0;1.0;]\n",
    "const ρ = 0.95;\n",
    "const Σ =[1.0 ρ; ρ 1;];"
   ]
  },
  {
   "cell_type": "markdown",
   "metadata": {},
   "source": [
    "###### Let us write a function that generate an n-sample\n"
   ]
  },
  {
   "cell_type": "code",
   "execution_count": 3,
   "metadata": {},
   "outputs": [
    {
     "data": {
      "text/plain": [
       "generate_sample (generic function with 1 method)"
      ]
     },
     "execution_count": 3,
     "metadata": {},
     "output_type": "execute_result"
    }
   ],
   "source": [
    "function generate_sample(n)\n",
    "    # Define the Multivariate Normal Distribution instance\n",
    "    mvnormal = MvNormal([0.0; 0.0], Σ)\n",
    "    \n",
    "    # DGP\n",
    "    Errors=rand(mvnormal,n)'\n",
    "    ϵ=Errors[:,1]\n",
    "    V=Errors[:,2]\n",
    "    Z=randn(n,2)\n",
    "    X=Z*Π+V\n",
    "    U=exp.(Z*Π) .* ϵ\n",
    "    Y=β*X+U\n",
    "    return (Y = Y , X = X , Z = Z)\n",
    "end"
   ]
  },
  {
   "cell_type": "code",
   "execution_count": 4,
   "metadata": {},
   "outputs": [],
   "source": [
    "\n",
    "@unpack X, Y , Z = generate_sample(5);\n",
    "\n"
   ]
  },
  {
   "cell_type": "markdown",
   "metadata": {},
   "source": [
    "<u> Part b </u>: Function that computes 2SLS estimator of $\\beta$ and its standard error."
   ]
  },
  {
   "cell_type": "code",
   "execution_count": 5,
   "metadata": {},
   "outputs": [
    {
     "data": {
      "text/plain": [
       "Ω (generic function with 1 method)"
      ]
     },
     "execution_count": 5,
     "metadata": {},
     "output_type": "execute_result"
    }
   ],
   "source": [
    "# Function for estimation of Ω\n",
    "function Ω(U,Z)\n",
    "    n=length(U)\n",
    "    zr = Z.*U\n",
    "    omega = (zr' * zr)/n\n",
    "        \n",
    "    return omega\n",
    "end"
   ]
  },
  {
   "cell_type": "markdown",
   "metadata": {},
   "source": [
    "The 2SLS estimator of $\\beta$ is given by $\\hat{\\beta}^{2sls}_n = (X^{\\prime}ZW_nZ^\\prime X)^{-1}X^{\\prime}ZW_nZ^\\prime Y$ where $W^{-1}_n = 1/n Z^\\prime Z$"
   ]
  },
  {
   "cell_type": "code",
   "execution_count": 6,
   "metadata": {},
   "outputs": [
    {
     "data": {
      "text/plain": [
       "β_2sls (generic function with 1 method)"
      ]
     },
     "execution_count": 6,
     "metadata": {},
     "output_type": "execute_result"
    }
   ],
   "source": [
    "function β_2sls(Y,X,Z)\n",
    "    \n",
    "    n=length(Y)\n",
    "\n",
    "    PZ = Z*( (Z'*Z)\\Z' )\n",
    "    β2SLS = (X'*PZ*X)\\(X'*PZ*Y)\n",
    "    Q = Z'*X/n\n",
    "    W = inv(Z'*Z/n)\n",
    "    Ω1 = Ω(Y-β2SLS*X,Z)\n",
    "    var2sls = ( (Q'*W*Q)\\(Q'*W*Ω1*W*Q)/(Q'*W*Q) )/n\n",
    "    std2SLS = sqrt(var2sls)\n",
    "    \n",
    "    return β2SLS, std2SLS\n",
    "    \n",
    "end\n"
   ]
  },
  {
   "cell_type": "markdown",
   "metadata": {},
   "source": [
    "<u> Part c </u>: Function that computes the GMM estimator of $\\beta$ and its standard error."
   ]
  },
  {
   "cell_type": "code",
   "execution_count": 7,
   "metadata": {},
   "outputs": [
    {
     "data": {
      "text/plain": [
       "β_GMM (generic function with 1 method)"
      ]
     },
     "execution_count": 7,
     "metadata": {},
     "output_type": "execute_result"
    }
   ],
   "source": [
    "function β_GMM(Y,X,Z)\n",
    "    \n",
    "    n=length(Y)\n",
    "    PZ = Z*( (Z'*Z)\\Z' )\n",
    "    Q = Z'*X/n\n",
    "    β2SLS = (X'*PZ*X)\\(X'*PZ*Y)\n",
    "    Ω1 = Ω(Y-β2SLS*X,Z)\n",
    "\n",
    "    W_gmm=inv(Ω1);\n",
    "    β_gmm=(X'*Z*W_gmm*Z'*X)\\(X'*Z*W_gmm*Z'*Y)\n",
    "    Ω2=Ω(Y-β_gmm*X,Z)\n",
    "    W_gmm =inv(Ω2)\n",
    "    stdGMM=sqrt(inv(Q'*W_gmm*Q)/n)\n",
    "    \n",
    "    return β_gmm, stdGMM\n",
    "    \n",
    "end"
   ]
  },
  {
   "cell_type": "markdown",
   "metadata": {},
   "source": [
    "<u> Part d </u>: Generate 10,000 independent samples of size n from the model. For each sample\n",
    "compute the following a 95% confidence interval of $\\beta$."
   ]
  },
  {
   "cell_type": "code",
   "execution_count": 8,
   "metadata": {},
   "outputs": [],
   "source": [
    "R=10^4\n",
    "Bias2SLS=0.0\n",
    "BiasGMM=0.0\n",
    "std2SLS=0.0\n",
    "stdGMM=0.0\n",
    "In2SLS=0.0\n",
    "InGMM=0.0\n",
    "CritVal = quantile(Normal(0,1), .975);"
   ]
  },
  {
   "cell_type": "code",
   "execution_count": 9,
   "metadata": {},
   "outputs": [],
   "source": [
    "for r=1:R\n",
    "    Y, X, Z = generate_sample(n)\n",
    "    b2SLS, s2SLS = β_2sls(Y,X,Z)\n",
    "    bGMM, sGMM = β_GMM(Y,X,Z)\n",
    "    Bias2SLS += abs(b2SLS-β)\n",
    "    BiasGMM += abs(bGMM-β)\n",
    "    std2SLS += s2SLS\n",
    "    stdGMM += sGMM\n",
    "    In2SLS += (β>b2SLS - CritVal*s2SLS)*(β<b2SLS + CritVal*s2SLS)\n",
    "    InGMM += (β>bGMM - CritVal*sGMM)*(β<bGMM + CritVal*sGMM)\n",
    "end"
   ]
  },
  {
   "cell_type": "markdown",
   "metadata": {},
   "source": [
    "<u> Part e</u>: results"
   ]
  },
  {
   "cell_type": "code",
   "execution_count": 10,
   "metadata": {},
   "outputs": [
    {
     "name": "stdout",
     "output_type": "stream",
     "text": [
      "┌─────────────────────┬──────────┬────────────────────────┐\n",
      "│\u001b[1m           Statistic \u001b[0m│\u001b[1m     2SLS \u001b[0m│\u001b[1m Two-step efficient GMM \u001b[0m│\n",
      "├─────────────────────┼──────────┼────────────────────────┤\n",
      "│                Bias │  0.46081 │               0.376171 │\n",
      "│        Ave. std.err │ 0.526561 │               0.442985 │\n",
      "│ Coverage Prob of CI │   0.9561 │                 0.9468 │\n",
      "└─────────────────────┴──────────┴────────────────────────┘\n"
     ]
    }
   ],
   "source": [
    "table_data = [\"Bias\" Bias2SLS/R BiasGMM/R\n",
    " \"Ave. std.err\" std2SLS/R stdGMM/R;\"Coverage Prob of CI\" In2SLS/R InGMM/R;]\n",
    "header=[\"Statistic\", \"2SLS\", \"Two-step efficient GMM\"]\n",
    "pretty_table(table_data; header)"
   ]
  },
  {
   "cell_type": "markdown",
   "metadata": {},
   "source": [
    "<u> Part f</u>: interpretation of the result\n",
    "\n",
    "* We con observe that both 2sls and gmm display a coverage probability odf the confident interval close to 0.95.\n",
    "* The bias and standard error of the gmm are respectively smaller than that of 2sls. For these reasons, gmm model is preferred to 2sls model."
   ]
  },
  {
   "cell_type": "markdown",
   "metadata": {},
   "source": [
    "<u> Part g</u>: simulations with n = 100"
   ]
  },
  {
   "cell_type": "code",
   "execution_count": 52,
   "metadata": {},
   "outputs": [
    {
     "name": "stdout",
     "output_type": "stream",
     "text": [
      "┌─────────────────────┬──────────┬────────────────────────┐\n",
      "│\u001b[1m           Statistic \u001b[0m│\u001b[1m     2SLS \u001b[0m│\u001b[1m Two-step efficient GMM \u001b[0m│\n",
      "├─────────────────────┼──────────┼────────────────────────┤\n",
      "│                Bias │ 0.816472 │               0.618646 │\n",
      "│        Ave. std.err │ 0.882597 │               0.675747 │\n",
      "│ Coverage Prob of CI │    0.953 │                 0.9358 │\n",
      "└─────────────────────┴──────────┴────────────────────────┘\n"
     ]
    }
   ],
   "source": [
    "n=100\n",
    "Bias2SLS=0.0;\n",
    "BiasGMM=0.0;\n",
    "std2SLS=0.0;\n",
    "stdGMM=0.0;\n",
    "In2SLS=0.0;\n",
    "InGMM=0.0;\n",
    "\n",
    "for r=1:R\n",
    "    Y, X, Z = generate_sample(n)\n",
    "    b2SLS, s2SLS = β_2sls(Y,X,Z)\n",
    "    bGMM, sGMM = β_GMM(Y,X,Z)\n",
    "    Bias2SLS +=abs(b2SLS-β)\n",
    "    BiasGMM +=abs(bGMM-β)\n",
    "    std2SLS +=s2SLS\n",
    "    stdGMM +=sGMM\n",
    "    In2SLS += (β>b2SLS - CritVal*s2SLS)*(β<b2SLS + CritVal*s2SLS)\n",
    "    InGMM += (β>bGMM - CritVal*sGMM)*(β<bGMM + CritVal*sGMM)\n",
    "end\n",
    "\n",
    "table_data = [\"Bias\" Bias2SLS/R BiasGMM/R\n",
    "        \"Ave. std.err\" std2SLS/R stdGMM/R;\n",
    "        \"Coverage Prob of CI\" In2SLS/R InGMM/R;     \n",
    "]\n",
    "header=[\"Statistic\",\"2SLS\",\"Two-step efficient GMM\"]\n",
    "pretty_table(table_data;header)"
   ]
  },
  {
   "cell_type": "markdown",
   "metadata": {},
   "source": [
    "The 2SLS model seems to outpace the gmm model when n is smaller."
   ]
  }
 ],
 "metadata": {
  "kernelspec": {
   "display_name": "Julia 1.8.2",
   "language": "julia",
   "name": "julia-1.8"
  },
  "language_info": {
   "file_extension": ".jl",
   "mimetype": "application/julia",
   "name": "julia",
   "version": "1.8.2"
  }
 },
 "nbformat": 4,
 "nbformat_minor": 4
}
